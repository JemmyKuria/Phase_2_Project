{
 "cells": [
  {
   "cell_type": "code",
   "execution_count": null,
   "id": "1768137f-ffe4-45e3-aae7-e830215c8a9b",
   "metadata": {},
   "outputs": [],
   "source": []
  }
 ],
 "metadata": {
  "kernelspec": {
   "display_name": "",
   "name": ""
  },
  "language_info": {
   "name": ""
  }
 },
 "nbformat": 4,
 "nbformat_minor": 5
}
