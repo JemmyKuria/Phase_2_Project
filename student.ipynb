{
 "cells": [
  {
   "cell_type": "markdown",
   "metadata": {},
   "source": [
    "# PROJECT TITLE : EXPLORING BOX OFFICE TRENDS"
   ]
  },
  {
   "cell_type": "markdown",
   "metadata": {},
   "source": [
    "![Movie Update](Movie_Update.jpg)"
   ]
  },
  {
   "cell_type": "markdown",
   "metadata": {},
   "source": [
    "# PROJECT OVERVIEW\n",
    "\n",
    "#### This project is all about diving into the data to explore what makes a film successful at the box office. We'll be looking at things like genre, themes, cast, production budgets, and even audience demographics to spot trends and patterns. The goal is to uncover insights that can help shape our film development strategy. In the end, we want to give the head of our new movie studio actionable recommendations, making sure that the films we produce match what the market wants and what audiences enjoy. By doing this, we aim to make our company a strong contender in the film industry, creating content that not only engages but also makes a profit."
   ]
  },
  {
   "cell_type": "code",
   "execution_count": 1,
   "metadata": {},
   "outputs": [],
   "source": [
    "import pandas as pd\n",
    "import sqlite3"
   ]
  },
  {
   "cell_type": "code",
   "execution_count": 2,
   "metadata": {},
   "outputs": [
    {
     "data": {
      "text/plain": [
       "[('movie_basics',),\n",
       " ('directors',),\n",
       " ('known_for',),\n",
       " ('movie_akas',),\n",
       " ('movie_ratings',),\n",
       " ('persons',),\n",
       " ('principals',),\n",
       " ('writers',)]"
      ]
     },
     "execution_count": 2,
     "metadata": {},
     "output_type": "execute_result"
    }
   ],
   "source": [
    "# Open up a connection\n",
    "conn = sqlite3.connect(\"zippedData/im.db\")\n",
    "# Initialize a cursor\n",
    "cur = conn.cursor()\n",
    "\n",
    "cur.execute(\"\"\"SELECT name FROM sqlite_master WHERE type = 'table';\"\"\")\n",
    "# Fetch the result and store it in table_names\n",
    "table_names = cur.fetchall()\n",
    "table_names"
   ]
  },
  {
   "cell_type": "code",
   "execution_count": 3,
   "metadata": {},
   "outputs": [
    {
     "name": "stdout",
     "output_type": "stream",
     "text": [
      "\n"
     ]
    },
    {
     "data": {
      "text/html": [
       "<b>Movie basics table \n",
       "</b>"
      ],
      "text/plain": [
       "<IPython.core.display.HTML object>"
      ]
     },
     "metadata": {},
     "output_type": "display_data"
    },
    {
     "name": "stdout",
     "output_type": "stream",
     "text": [
      "    movie_id                    primary_title   original_title  start_year  \\\n",
      "0  tt0063540                        Sunghursh        Sunghursh        2013   \n",
      "1  tt0066787  One Day Before the Rainy Season  Ashad Ka Ek Din        2019   \n",
      "\n",
      "   runtime_minutes              genres  \n",
      "0            175.0  Action,Crime,Drama  \n",
      "1            114.0     Biography,Drama  \n"
     ]
    },
    {
     "data": {
      "text/html": [
       "<b>\n",
       " \n",
       " Directors table</b>"
      ],
      "text/plain": [
       "<IPython.core.display.HTML object>"
      ]
     },
     "metadata": {},
     "output_type": "display_data"
    },
    {
     "name": "stdout",
     "output_type": "stream",
     "text": [
      "    movie_id  person_id\n",
      "0  tt0285252  nm0899854\n",
      "1  tt0462036  nm1940585\n"
     ]
    },
    {
     "data": {
      "text/html": [
       "<b>\n",
       " \n",
       " Known_for table</b>"
      ],
      "text/plain": [
       "<IPython.core.display.HTML object>"
      ]
     },
     "metadata": {},
     "output_type": "display_data"
    },
    {
     "name": "stdout",
     "output_type": "stream",
     "text": [
      "   person_id   movie_id\n",
      "0  nm0061671  tt0837562\n",
      "1  nm0061671  tt2398241\n"
     ]
    },
    {
     "data": {
      "text/html": [
       "<b>\n",
       " \n",
       " Movie_akas table</b>"
      ],
      "text/plain": [
       "<IPython.core.display.HTML object>"
      ]
     },
     "metadata": {},
     "output_type": "display_data"
    },
    {
     "name": "stdout",
     "output_type": "stream",
     "text": [
      "    movie_id  ordering              title region language        types  \\\n",
      "0  tt0369610        10      Джурасик свят     BG       bg         None   \n",
      "1  tt0369610        11  Jurashikku warudo     JP     None  imdbDisplay   \n",
      "\n",
      "  attributes  is_original_title  \n",
      "0       None                0.0  \n",
      "1       None                0.0  \n"
     ]
    },
    {
     "data": {
      "text/html": [
       "<b>\n",
       " \n",
       " Movie_ratings table</b>"
      ],
      "text/plain": [
       "<IPython.core.display.HTML object>"
      ]
     },
     "metadata": {},
     "output_type": "display_data"
    },
    {
     "name": "stdout",
     "output_type": "stream",
     "text": [
      "     movie_id  averagerating  numvotes\n",
      "0  tt10356526            8.3        31\n",
      "1  tt10384606            8.9       559\n"
     ]
    },
    {
     "data": {
      "text/html": [
       "<b>\n",
       " \n",
       " Persons table</b>"
      ],
      "text/plain": [
       "<IPython.core.display.HTML object>"
      ]
     },
     "metadata": {},
     "output_type": "display_data"
    },
    {
     "name": "stdout",
     "output_type": "stream",
     "text": [
      "   person_id       primary_name  birth_year  death_year  \\\n",
      "0  nm0061671  Mary Ellen Bauder         NaN         NaN   \n",
      "1  nm0061865       Joseph Bauer         NaN         NaN   \n",
      "\n",
      "                           primary_profession  \n",
      "0   miscellaneous,production_manager,producer  \n",
      "1  composer,music_department,sound_department  \n"
     ]
    },
    {
     "data": {
      "text/html": [
       "<b>\n",
       " \n",
       " Principals table</b>"
      ],
      "text/plain": [
       "<IPython.core.display.HTML object>"
      ]
     },
     "metadata": {},
     "output_type": "display_data"
    },
    {
     "name": "stdout",
     "output_type": "stream",
     "text": [
      "    movie_id  ordering  person_id  category   job   characters\n",
      "0  tt0111414         1  nm0246005     actor  None  [\"The Man\"]\n",
      "1  tt0111414         2  nm0398271  director  None         None\n"
     ]
    },
    {
     "data": {
      "text/html": [
       "<b>\n",
       " \n",
       " Writers table</b>"
      ],
      "text/plain": [
       "<IPython.core.display.HTML object>"
      ]
     },
     "metadata": {},
     "output_type": "display_data"
    },
    {
     "name": "stdout",
     "output_type": "stream",
     "text": [
      "    movie_id  person_id\n",
      "0  tt0285252  nm0899854\n",
      "1  tt0438973  nm0175726\n"
     ]
    }
   ],
   "source": [
    "from IPython.display import display, HTML\n",
    "\n",
    "movie_basics = pd.read_sql(\"\"\"\n",
    "SELECT * FROM movie_basics\n",
    "\"\"\", conn).head(2)\n",
    "\n",
    "print()\n",
    "display(HTML(\"<b>Movie basics table \\n</b>\"))\n",
    "print(movie_basics) \n",
    "\n",
    "#Directors table\n",
    "directors = pd.read_sql(\"\"\"\n",
    "SELECT * FROM directors\n",
    "\"\"\", conn).head(2)\n",
    "display(HTML(\"<b>\\n \\n Directors table</b>\"))\n",
    "print(directors)\n",
    "\n",
    "known_for = pd.read_sql(\"\"\"\n",
    "SELECT * FROM known_for\n",
    "\"\"\", conn).head(2)\n",
    "display(HTML(\"<b>\\n \\n Known_for table</b>\"))\n",
    "\n",
    "print(known_for) \n",
    "\n",
    "movie_akas = pd.read_sql(\"\"\"\n",
    "SELECT * FROM movie_akas\n",
    "\"\"\", conn).head(2)\n",
    "display(HTML(\"<b>\\n \\n Movie_akas table</b>\"))\n",
    "print(movie_akas) \n",
    "\n",
    "movie_ratings = pd.read_sql(\"\"\"\n",
    "SELECT * FROM movie_ratings\n",
    "\"\"\", conn).head(2)\n",
    "display(HTML(\"<b>\\n \\n Movie_ratings table</b>\"))\n",
    "print(movie_ratings) \n",
    "\n",
    "persons = pd.read_sql(\"\"\"\n",
    "SELECT * FROM persons\n",
    "\"\"\", conn).head(2)\n",
    "display(HTML(\"<b>\\n \\n Persons table</b>\"))\n",
    "print(persons)\n",
    "\n",
    "principals = pd.read_sql(\"\"\"\n",
    "SELECT * FROM principals\n",
    "\"\"\", conn).head(2)\n",
    "display(HTML(\"<b>\\n \\n Principals table</b>\"))\n",
    "print(principals)\n",
    "\n",
    "writers = pd.read_sql(\"\"\"\n",
    "SELECT * FROM writers\n",
    "\"\"\", conn).head(2)\n",
    "display(HTML(\"<b>\\n \\n Writers table</b>\"))\n",
    "print(writers)"
   ]
  },
  {
   "cell_type": "code",
   "execution_count": 4,
   "metadata": {},
   "outputs": [
    {
     "name": "stdout",
     "output_type": "stream",
     "text": [
      "Movie gross info:\n",
      "<class 'pandas.core.frame.DataFrame'>\n",
      "RangeIndex: 3387 entries, 0 to 3386\n",
      "Data columns (total 5 columns):\n",
      " #   Column          Non-Null Count  Dtype  \n",
      "---  ------          --------------  -----  \n",
      " 0   title           3387 non-null   object \n",
      " 1   studio          3382 non-null   object \n",
      " 2   domestic_gross  3359 non-null   float64\n",
      " 3   foreign_gross   2037 non-null   object \n",
      " 4   year            3387 non-null   int64  \n",
      "dtypes: float64(1), int64(1), object(3)\n",
      "memory usage: 132.4+ KB\n"
     ]
    },
    {
     "data": {
      "text/html": [
       "\\ <b>Movie_gross head</b>"
      ],
      "text/plain": [
       "<IPython.core.display.HTML object>"
      ]
     },
     "metadata": {},
     "output_type": "display_data"
    },
    {
     "data": {
      "text/html": [
       "<div>\n",
       "<style scoped>\n",
       "    .dataframe tbody tr th:only-of-type {\n",
       "        vertical-align: middle;\n",
       "    }\n",
       "\n",
       "    .dataframe tbody tr th {\n",
       "        vertical-align: top;\n",
       "    }\n",
       "\n",
       "    .dataframe thead th {\n",
       "        text-align: right;\n",
       "    }\n",
       "</style>\n",
       "<table border=\"1\" class=\"dataframe\">\n",
       "  <thead>\n",
       "    <tr style=\"text-align: right;\">\n",
       "      <th></th>\n",
       "      <th>title</th>\n",
       "      <th>studio</th>\n",
       "      <th>domestic_gross</th>\n",
       "      <th>foreign_gross</th>\n",
       "      <th>year</th>\n",
       "    </tr>\n",
       "  </thead>\n",
       "  <tbody>\n",
       "    <tr>\n",
       "      <th>0</th>\n",
       "      <td>Toy Story 3</td>\n",
       "      <td>BV</td>\n",
       "      <td>415000000.0</td>\n",
       "      <td>652000000</td>\n",
       "      <td>2010</td>\n",
       "    </tr>\n",
       "    <tr>\n",
       "      <th>1</th>\n",
       "      <td>Alice in Wonderland (2010)</td>\n",
       "      <td>BV</td>\n",
       "      <td>334200000.0</td>\n",
       "      <td>691300000</td>\n",
       "      <td>2010</td>\n",
       "    </tr>\n",
       "  </tbody>\n",
       "</table>\n",
       "</div>"
      ],
      "text/plain": [
       "                        title studio  domestic_gross foreign_gross  year\n",
       "0                 Toy Story 3     BV     415000000.0     652000000  2010\n",
       "1  Alice in Wonderland (2010)     BV     334200000.0     691300000  2010"
      ]
     },
     "metadata": {},
     "output_type": "display_data"
    }
   ],
   "source": [
    "# Read all csv/tsv files and create dataframes\n",
    "movie_gross = pd.read_csv(\"zippedData/bom.movie_gross.csv.gz\")\n",
    "movie_info = pd.read_csv(\"zippedData/rt.movie_info.tsv.gz\", sep='\\t')\n",
    "reviews = pd.read_csv(\"zippedData/rt.reviews.tsv.gz\", sep='\\t', encoding='latin1')\n",
    "tmbd_movies = pd.read_csv(\"zippedData/tmdb.movies.csv.gz\")\n",
    "movie_budgets = pd.read_csv(\"zippedData/tn.movie_budgets.csv.gz\")\n",
    "\n",
    "print(\"Movie gross info:\")\n",
    "movie_gross.info()\n",
    "\n",
    "\n",
    "from IPython.display import HTML, display\n",
    "\n",
    "display(HTML(\"\\ <b>Movie_gross head</b>\"))\n",
    "display(movie_gross.head(2))"
   ]
  },
  {
   "cell_type": "code",
   "execution_count": 5,
   "metadata": {},
   "outputs": [
    {
     "name": "stdout",
     "output_type": "stream",
     "text": [
      "Movie_info info:\n",
      "<class 'pandas.core.frame.DataFrame'>\n",
      "RangeIndex: 1560 entries, 0 to 1559\n",
      "Data columns (total 12 columns):\n",
      " #   Column        Non-Null Count  Dtype \n",
      "---  ------        --------------  ----- \n",
      " 0   id            1560 non-null   int64 \n",
      " 1   synopsis      1498 non-null   object\n",
      " 2   rating        1557 non-null   object\n",
      " 3   genre         1552 non-null   object\n",
      " 4   director      1361 non-null   object\n",
      " 5   writer        1111 non-null   object\n",
      " 6   theater_date  1201 non-null   object\n",
      " 7   dvd_date      1201 non-null   object\n",
      " 8   currency      340 non-null    object\n",
      " 9   box_office    340 non-null    object\n",
      " 10  runtime       1530 non-null   object\n",
      " 11  studio        494 non-null    object\n",
      "dtypes: int64(1), object(11)\n",
      "memory usage: 146.4+ KB\n"
     ]
    },
    {
     "data": {
      "text/html": [
       "<b>Movie_info head</b>"
      ],
      "text/plain": [
       "<IPython.core.display.HTML object>"
      ]
     },
     "metadata": {},
     "output_type": "display_data"
    },
    {
     "data": {
      "text/html": [
       "<div>\n",
       "<style scoped>\n",
       "    .dataframe tbody tr th:only-of-type {\n",
       "        vertical-align: middle;\n",
       "    }\n",
       "\n",
       "    .dataframe tbody tr th {\n",
       "        vertical-align: top;\n",
       "    }\n",
       "\n",
       "    .dataframe thead th {\n",
       "        text-align: right;\n",
       "    }\n",
       "</style>\n",
       "<table border=\"1\" class=\"dataframe\">\n",
       "  <thead>\n",
       "    <tr style=\"text-align: right;\">\n",
       "      <th></th>\n",
       "      <th>id</th>\n",
       "      <th>synopsis</th>\n",
       "      <th>rating</th>\n",
       "      <th>genre</th>\n",
       "      <th>director</th>\n",
       "      <th>writer</th>\n",
       "      <th>theater_date</th>\n",
       "      <th>dvd_date</th>\n",
       "      <th>currency</th>\n",
       "      <th>box_office</th>\n",
       "      <th>runtime</th>\n",
       "      <th>studio</th>\n",
       "    </tr>\n",
       "  </thead>\n",
       "  <tbody>\n",
       "    <tr>\n",
       "      <th>0</th>\n",
       "      <td>1</td>\n",
       "      <td>This gritty, fast-paced, and innovative police...</td>\n",
       "      <td>R</td>\n",
       "      <td>Action and Adventure|Classics|Drama</td>\n",
       "      <td>William Friedkin</td>\n",
       "      <td>Ernest Tidyman</td>\n",
       "      <td>Oct 9, 1971</td>\n",
       "      <td>Sep 25, 2001</td>\n",
       "      <td>NaN</td>\n",
       "      <td>NaN</td>\n",
       "      <td>104 minutes</td>\n",
       "      <td>NaN</td>\n",
       "    </tr>\n",
       "    <tr>\n",
       "      <th>1</th>\n",
       "      <td>3</td>\n",
       "      <td>New York City, not-too-distant-future: Eric Pa...</td>\n",
       "      <td>R</td>\n",
       "      <td>Drama|Science Fiction and Fantasy</td>\n",
       "      <td>David Cronenberg</td>\n",
       "      <td>David Cronenberg|Don DeLillo</td>\n",
       "      <td>Aug 17, 2012</td>\n",
       "      <td>Jan 1, 2013</td>\n",
       "      <td>$</td>\n",
       "      <td>600,000</td>\n",
       "      <td>108 minutes</td>\n",
       "      <td>Entertainment One</td>\n",
       "    </tr>\n",
       "  </tbody>\n",
       "</table>\n",
       "</div>"
      ],
      "text/plain": [
       "   id                                           synopsis rating  \\\n",
       "0   1  This gritty, fast-paced, and innovative police...      R   \n",
       "1   3  New York City, not-too-distant-future: Eric Pa...      R   \n",
       "\n",
       "                                 genre          director  \\\n",
       "0  Action and Adventure|Classics|Drama  William Friedkin   \n",
       "1    Drama|Science Fiction and Fantasy  David Cronenberg   \n",
       "\n",
       "                         writer  theater_date      dvd_date currency  \\\n",
       "0                Ernest Tidyman   Oct 9, 1971  Sep 25, 2001      NaN   \n",
       "1  David Cronenberg|Don DeLillo  Aug 17, 2012   Jan 1, 2013        $   \n",
       "\n",
       "  box_office      runtime             studio  \n",
       "0        NaN  104 minutes                NaN  \n",
       "1    600,000  108 minutes  Entertainment One  "
      ]
     },
     "metadata": {},
     "output_type": "display_data"
    }
   ],
   "source": [
    "# 1) Print info cleanly\n",
    "print(\"Movie_info info:\")\n",
    "movie_info.info()\n",
    "\n",
    "display(HTML(\"<b>Movie_info head</b>\"))\n",
    "display(movie_info.head(2))"
   ]
  },
  {
   "cell_type": "code",
   "execution_count": 6,
   "metadata": {},
   "outputs": [
    {
     "name": "stdout",
     "output_type": "stream",
     "text": [
      "Reviews info:\n",
      "<class 'pandas.core.frame.DataFrame'>\n",
      "RangeIndex: 54432 entries, 0 to 54431\n",
      "Data columns (total 8 columns):\n",
      " #   Column      Non-Null Count  Dtype \n",
      "---  ------      --------------  ----- \n",
      " 0   id          54432 non-null  int64 \n",
      " 1   review      48869 non-null  object\n",
      " 2   rating      40915 non-null  object\n",
      " 3   fresh       54432 non-null  object\n",
      " 4   critic      51710 non-null  object\n",
      " 5   top_critic  54432 non-null  int64 \n",
      " 6   publisher   54123 non-null  object\n",
      " 7   date        54432 non-null  object\n",
      "dtypes: int64(2), object(6)\n",
      "memory usage: 3.3+ MB\n"
     ]
    },
    {
     "data": {
      "text/html": [
       "<b>reviews head</b>"
      ],
      "text/plain": [
       "<IPython.core.display.HTML object>"
      ]
     },
     "metadata": {},
     "output_type": "display_data"
    },
    {
     "data": {
      "text/html": [
       "<div>\n",
       "<style scoped>\n",
       "    .dataframe tbody tr th:only-of-type {\n",
       "        vertical-align: middle;\n",
       "    }\n",
       "\n",
       "    .dataframe tbody tr th {\n",
       "        vertical-align: top;\n",
       "    }\n",
       "\n",
       "    .dataframe thead th {\n",
       "        text-align: right;\n",
       "    }\n",
       "</style>\n",
       "<table border=\"1\" class=\"dataframe\">\n",
       "  <thead>\n",
       "    <tr style=\"text-align: right;\">\n",
       "      <th></th>\n",
       "      <th>id</th>\n",
       "      <th>review</th>\n",
       "      <th>rating</th>\n",
       "      <th>fresh</th>\n",
       "      <th>critic</th>\n",
       "      <th>top_critic</th>\n",
       "      <th>publisher</th>\n",
       "      <th>date</th>\n",
       "    </tr>\n",
       "  </thead>\n",
       "  <tbody>\n",
       "    <tr>\n",
       "      <th>0</th>\n",
       "      <td>3</td>\n",
       "      <td>A distinctly gallows take on contemporary fina...</td>\n",
       "      <td>3/5</td>\n",
       "      <td>fresh</td>\n",
       "      <td>PJ Nabarro</td>\n",
       "      <td>0</td>\n",
       "      <td>Patrick Nabarro</td>\n",
       "      <td>November 10, 2018</td>\n",
       "    </tr>\n",
       "    <tr>\n",
       "      <th>1</th>\n",
       "      <td>3</td>\n",
       "      <td>It's an allegory in search of a meaning that n...</td>\n",
       "      <td>NaN</td>\n",
       "      <td>rotten</td>\n",
       "      <td>Annalee Newitz</td>\n",
       "      <td>0</td>\n",
       "      <td>io9.com</td>\n",
       "      <td>May 23, 2018</td>\n",
       "    </tr>\n",
       "  </tbody>\n",
       "</table>\n",
       "</div>"
      ],
      "text/plain": [
       "   id                                             review rating   fresh  \\\n",
       "0   3  A distinctly gallows take on contemporary fina...    3/5   fresh   \n",
       "1   3  It's an allegory in search of a meaning that n...    NaN  rotten   \n",
       "\n",
       "           critic  top_critic        publisher               date  \n",
       "0      PJ Nabarro           0  Patrick Nabarro  November 10, 2018  \n",
       "1  Annalee Newitz           0          io9.com       May 23, 2018  "
      ]
     },
     "metadata": {},
     "output_type": "display_data"
    }
   ],
   "source": [
    "print(\"Reviews info:\")\n",
    "reviews.info()\n",
    "\n",
    "display(HTML(\"<b>reviews head</b>\"))\n",
    "display(reviews.head(2))\n"
   ]
  },
  {
   "cell_type": "code",
   "execution_count": 7,
   "metadata": {},
   "outputs": [
    {
     "data": {
      "text/html": [
       "<b>TMDB Movie info:</b>"
      ],
      "text/plain": [
       "<IPython.core.display.HTML object>"
      ]
     },
     "metadata": {},
     "output_type": "display_data"
    },
    {
     "name": "stdout",
     "output_type": "stream",
     "text": [
      "<class 'pandas.core.frame.DataFrame'>\n",
      "RangeIndex: 26517 entries, 0 to 26516\n",
      "Data columns (total 10 columns):\n",
      " #   Column             Non-Null Count  Dtype  \n",
      "---  ------             --------------  -----  \n",
      " 0   Unnamed: 0         26517 non-null  int64  \n",
      " 1   genre_ids          26517 non-null  object \n",
      " 2   id                 26517 non-null  int64  \n",
      " 3   original_language  26517 non-null  object \n",
      " 4   original_title     26517 non-null  object \n",
      " 5   popularity         26517 non-null  float64\n",
      " 6   release_date       26517 non-null  object \n",
      " 7   title              26517 non-null  object \n",
      " 8   vote_average       26517 non-null  float64\n",
      " 9   vote_count         26517 non-null  int64  \n",
      "dtypes: float64(2), int64(3), object(5)\n",
      "memory usage: 2.0+ MB\n"
     ]
    },
    {
     "data": {
      "text/html": [
       "<b>TMDB MOVIES head</b>"
      ],
      "text/plain": [
       "<IPython.core.display.HTML object>"
      ]
     },
     "metadata": {},
     "output_type": "display_data"
    },
    {
     "data": {
      "text/html": [
       "<div>\n",
       "<style scoped>\n",
       "    .dataframe tbody tr th:only-of-type {\n",
       "        vertical-align: middle;\n",
       "    }\n",
       "\n",
       "    .dataframe tbody tr th {\n",
       "        vertical-align: top;\n",
       "    }\n",
       "\n",
       "    .dataframe thead th {\n",
       "        text-align: right;\n",
       "    }\n",
       "</style>\n",
       "<table border=\"1\" class=\"dataframe\">\n",
       "  <thead>\n",
       "    <tr style=\"text-align: right;\">\n",
       "      <th></th>\n",
       "      <th>Unnamed: 0</th>\n",
       "      <th>genre_ids</th>\n",
       "      <th>id</th>\n",
       "      <th>original_language</th>\n",
       "      <th>original_title</th>\n",
       "      <th>popularity</th>\n",
       "      <th>release_date</th>\n",
       "      <th>title</th>\n",
       "      <th>vote_average</th>\n",
       "      <th>vote_count</th>\n",
       "    </tr>\n",
       "  </thead>\n",
       "  <tbody>\n",
       "    <tr>\n",
       "      <th>0</th>\n",
       "      <td>0</td>\n",
       "      <td>[12, 14, 10751]</td>\n",
       "      <td>12444</td>\n",
       "      <td>en</td>\n",
       "      <td>Harry Potter and the Deathly Hallows: Part 1</td>\n",
       "      <td>33.533</td>\n",
       "      <td>2010-11-19</td>\n",
       "      <td>Harry Potter and the Deathly Hallows: Part 1</td>\n",
       "      <td>7.7</td>\n",
       "      <td>10788</td>\n",
       "    </tr>\n",
       "    <tr>\n",
       "      <th>1</th>\n",
       "      <td>1</td>\n",
       "      <td>[14, 12, 16, 10751]</td>\n",
       "      <td>10191</td>\n",
       "      <td>en</td>\n",
       "      <td>How to Train Your Dragon</td>\n",
       "      <td>28.734</td>\n",
       "      <td>2010-03-26</td>\n",
       "      <td>How to Train Your Dragon</td>\n",
       "      <td>7.7</td>\n",
       "      <td>7610</td>\n",
       "    </tr>\n",
       "  </tbody>\n",
       "</table>\n",
       "</div>"
      ],
      "text/plain": [
       "   Unnamed: 0            genre_ids     id original_language  \\\n",
       "0           0      [12, 14, 10751]  12444                en   \n",
       "1           1  [14, 12, 16, 10751]  10191                en   \n",
       "\n",
       "                                 original_title  popularity release_date  \\\n",
       "0  Harry Potter and the Deathly Hallows: Part 1      33.533   2010-11-19   \n",
       "1                      How to Train Your Dragon      28.734   2010-03-26   \n",
       "\n",
       "                                          title  vote_average  vote_count  \n",
       "0  Harry Potter and the Deathly Hallows: Part 1           7.7       10788  \n",
       "1                      How to Train Your Dragon           7.7        7610  "
      ]
     },
     "metadata": {},
     "output_type": "display_data"
    }
   ],
   "source": [
    "display(HTML(\"<b>TMDB Movie info:</b>\"))\n",
    "\n",
    "tmbd_movies.info()\n",
    "\n",
    "display(HTML(\"<b>TMDB MOVIES head</b>\"))\n",
    "display(tmbd_movies.head(2))\n"
   ]
  },
  {
   "cell_type": "code",
   "execution_count": 8,
   "metadata": {},
   "outputs": [
    {
     "data": {
      "text/html": [
       "<b>Movie Budget info:</b>"
      ],
      "text/plain": [
       "<IPython.core.display.HTML object>"
      ]
     },
     "metadata": {},
     "output_type": "display_data"
    },
    {
     "name": "stdout",
     "output_type": "stream",
     "text": [
      "<class 'pandas.core.frame.DataFrame'>\n",
      "RangeIndex: 5782 entries, 0 to 5781\n",
      "Data columns (total 6 columns):\n",
      " #   Column             Non-Null Count  Dtype \n",
      "---  ------             --------------  ----- \n",
      " 0   id                 5782 non-null   int64 \n",
      " 1   release_date       5782 non-null   object\n",
      " 2   movie              5782 non-null   object\n",
      " 3   production_budget  5782 non-null   object\n",
      " 4   domestic_gross     5782 non-null   object\n",
      " 5   worldwide_gross    5782 non-null   object\n",
      "dtypes: int64(1), object(5)\n",
      "memory usage: 271.2+ KB\n"
     ]
    },
    {
     "data": {
      "text/html": [
       "<b>Movie Budget head</b>"
      ],
      "text/plain": [
       "<IPython.core.display.HTML object>"
      ]
     },
     "metadata": {},
     "output_type": "display_data"
    },
    {
     "data": {
      "text/html": [
       "<div>\n",
       "<style scoped>\n",
       "    .dataframe tbody tr th:only-of-type {\n",
       "        vertical-align: middle;\n",
       "    }\n",
       "\n",
       "    .dataframe tbody tr th {\n",
       "        vertical-align: top;\n",
       "    }\n",
       "\n",
       "    .dataframe thead th {\n",
       "        text-align: right;\n",
       "    }\n",
       "</style>\n",
       "<table border=\"1\" class=\"dataframe\">\n",
       "  <thead>\n",
       "    <tr style=\"text-align: right;\">\n",
       "      <th></th>\n",
       "      <th>id</th>\n",
       "      <th>release_date</th>\n",
       "      <th>movie</th>\n",
       "      <th>production_budget</th>\n",
       "      <th>domestic_gross</th>\n",
       "      <th>worldwide_gross</th>\n",
       "    </tr>\n",
       "  </thead>\n",
       "  <tbody>\n",
       "    <tr>\n",
       "      <th>0</th>\n",
       "      <td>1</td>\n",
       "      <td>Dec 18, 2009</td>\n",
       "      <td>Avatar</td>\n",
       "      <td>$425,000,000</td>\n",
       "      <td>$760,507,625</td>\n",
       "      <td>$2,776,345,279</td>\n",
       "    </tr>\n",
       "    <tr>\n",
       "      <th>1</th>\n",
       "      <td>2</td>\n",
       "      <td>May 20, 2011</td>\n",
       "      <td>Pirates of the Caribbean: On Stranger Tides</td>\n",
       "      <td>$410,600,000</td>\n",
       "      <td>$241,063,875</td>\n",
       "      <td>$1,045,663,875</td>\n",
       "    </tr>\n",
       "  </tbody>\n",
       "</table>\n",
       "</div>"
      ],
      "text/plain": [
       "   id  release_date                                        movie  \\\n",
       "0   1  Dec 18, 2009                                       Avatar   \n",
       "1   2  May 20, 2011  Pirates of the Caribbean: On Stranger Tides   \n",
       "\n",
       "  production_budget domestic_gross worldwide_gross  \n",
       "0      $425,000,000   $760,507,625  $2,776,345,279  \n",
       "1      $410,600,000   $241,063,875  $1,045,663,875  "
      ]
     },
     "metadata": {},
     "output_type": "display_data"
    }
   ],
   "source": [
    "display(HTML(\"<b>Movie Budget info:</b>\"))\n",
    "movie_budgets.info()\n",
    "\n",
    "display(HTML(\"<b>Movie Budget head</b>\"))\n",
    "display(movie_budgets.head(2))\n"
   ]
  },
  {
   "cell_type": "markdown",
   "metadata": {},
   "source": [
    "# DATA CLEANING"
   ]
  },
  {
   "cell_type": "code",
   "execution_count": 9,
   "metadata": {},
   "outputs": [
    {
     "data": {
      "text/html": [
       "<b>Movie Ratings table</b>"
      ],
      "text/plain": [
       "<IPython.core.display.HTML object>"
      ]
     },
     "metadata": {},
     "output_type": "display_data"
    },
    {
     "name": "stdout",
     "output_type": "stream",
     "text": [
      "     movie_id  averagerating  numvotes\n",
      "0  tt10356526            8.3        31\n",
      "1  tt10384606            8.9       559\n"
     ]
    },
    {
     "data": {
      "text/html": [
       "<b>Movie Basics table</b>"
      ],
      "text/plain": [
       "<IPython.core.display.HTML object>"
      ]
     },
     "metadata": {},
     "output_type": "display_data"
    },
    {
     "name": "stdout",
     "output_type": "stream",
     "text": [
      "    movie_id                    primary_title   original_title  start_year  \\\n",
      "0  tt0063540                        Sunghursh        Sunghursh        2013   \n",
      "1  tt0066787  One Day Before the Rainy Season  Ashad Ka Ek Din        2019   \n",
      "\n",
      "   runtime_minutes              genres  \n",
      "0            175.0  Action,Crime,Drama  \n",
      "1            114.0     Biography,Drama  \n"
     ]
    },
    {
     "data": {
      "text/html": [
       "<b>Joined Tables</b>"
      ],
      "text/plain": [
       "<IPython.core.display.HTML object>"
      ]
     },
     "metadata": {},
     "output_type": "display_data"
    },
    {
     "name": "stdout",
     "output_type": "stream",
     "text": [
      "    movie_id   original_title                    primary_title  \\\n",
      "0  tt0063540        Sunghursh                        Sunghursh   \n",
      "1  tt0066787  Ashad Ka Ek Din  One Day Before the Rainy Season   \n",
      "\n",
      "               genres  start_year  averagerating  numvotes  runtime_minutes  \n",
      "0  Action,Crime,Drama        2013            7.0      77.0            175.0  \n",
      "1     Biography,Drama        2019            7.2      43.0            114.0  \n"
     ]
    },
    {
     "data": {
      "text/html": [
       "<b>SQL dataset.info</b>"
      ],
      "text/plain": [
       "<IPython.core.display.HTML object>"
      ]
     },
     "metadata": {},
     "output_type": "display_data"
    },
    {
     "name": "stdout",
     "output_type": "stream",
     "text": [
      "<class 'pandas.core.frame.DataFrame'>\n",
      "RangeIndex: 146144 entries, 0 to 146143\n",
      "Data columns (total 8 columns):\n",
      " #   Column           Non-Null Count   Dtype  \n",
      "---  ------           --------------   -----  \n",
      " 0   movie_id         146144 non-null  object \n",
      " 1   original_title   146123 non-null  object \n",
      " 2   primary_title    146144 non-null  object \n",
      " 3   genres           140736 non-null  object \n",
      " 4   start_year       146144 non-null  int64  \n",
      " 5   averagerating    73856 non-null   float64\n",
      " 6   numvotes         73856 non-null   float64\n",
      " 7   runtime_minutes  114405 non-null  float64\n",
      "dtypes: float64(3), int64(1), object(4)\n",
      "memory usage: 8.9+ MB\n"
     ]
    },
    {
     "data": {
      "text/html": [
       "<b>Clean SQL dataset.info</b>"
      ],
      "text/plain": [
       "<IPython.core.display.HTML object>"
      ]
     },
     "metadata": {},
     "output_type": "display_data"
    },
    {
     "name": "stdout",
     "output_type": "stream",
     "text": [
      "<class 'pandas.core.frame.DataFrame'>\n",
      "Int64Index: 65720 entries, 0 to 146134\n",
      "Data columns (total 8 columns):\n",
      " #   Column           Non-Null Count  Dtype  \n",
      "---  ------           --------------  -----  \n",
      " 0   movie_id         65720 non-null  object \n",
      " 1   original_title   65720 non-null  object \n",
      " 2   primary_title    65720 non-null  object \n",
      " 3   genres           65720 non-null  object \n",
      " 4   start_year       65720 non-null  int64  \n",
      " 5   averagerating    65720 non-null  float64\n",
      " 6   numvotes         65720 non-null  float64\n",
      " 7   runtime_minutes  65720 non-null  float64\n",
      "dtypes: float64(3), int64(1), object(4)\n",
      "memory usage: 4.5+ MB\n"
     ]
    }
   ],
   "source": [
    "# Analyzing the tables and load data into a pandas DataFrame\n",
    "query1 = pd.read_sql_query( \"SELECT * FROM movie_ratings\", conn)\n",
    "query2 = pd.read_sql_query(\"SELECT * FROM movie_basics\" , conn)\n",
    "display(HTML(\"<b>Movie Ratings table</b>\"))\n",
    "print(query1.head(2))\n",
    "\n",
    "display(HTML(\"<b>Movie Basics table</b>\"))\n",
    "print(query2.head(2))\n",
    "\n",
    "\n",
    "\n",
    "sql_dataset = pd.read_sql_query(\n",
    "    \"\"\"\n",
    "SELECT \n",
    "    mb.movie_id,\n",
    "    mb.original_title,\n",
    "    mb.primary_title,\n",
    "    mb.genres,\n",
    "    mb.start_year,\n",
    "    mr.averagerating,\n",
    "    mr.numvotes,\n",
    "    mb.runtime_minutes\n",
    "FROM \n",
    "    movie_basics AS mb\n",
    "LEFT JOIN \n",
    "    movie_ratings AS mr\n",
    "ON \n",
    "    mb.movie_id = mr.movie_id;\n",
    "    \"\"\", conn)\n",
    "\n",
    "display(HTML(\"<b>Joined Tables</b>\"))\n",
    "print(sql_dataset.head(2))\n",
    "\n",
    "display(HTML(\"<b>SQL dataset.info</b>\"))\n",
    "sql_dataset.info()\n",
    "\n",
    "# Drop null values\n",
    "sql_dataset.dropna(inplace = True)\n",
    "display(HTML(\"<b>Clean SQL dataset.info</b>\"))\n",
    "sql_dataset.info()"
   ]
  },
  {
   "cell_type": "code",
   "execution_count": 10,
   "metadata": {},
   "outputs": [
    {
     "data": {
      "text/html": [
       "<b>Movie gross.info</b>"
      ],
      "text/plain": [
       "<IPython.core.display.HTML object>"
      ]
     },
     "metadata": {},
     "output_type": "display_data"
    },
    {
     "name": "stdout",
     "output_type": "stream",
     "text": [
      "<class 'pandas.core.frame.DataFrame'>\n",
      "RangeIndex: 3387 entries, 0 to 3386\n",
      "Data columns (total 5 columns):\n",
      " #   Column          Non-Null Count  Dtype  \n",
      "---  ------          --------------  -----  \n",
      " 0   title           3387 non-null   object \n",
      " 1   studio          3382 non-null   object \n",
      " 2   domestic_gross  3359 non-null   float64\n",
      " 3   foreign_gross   2037 non-null   object \n",
      " 4   year            3387 non-null   int64  \n",
      "dtypes: float64(1), int64(1), object(3)\n",
      "memory usage: 132.4+ KB\n"
     ]
    },
    {
     "data": {
      "text/html": [
       "<b>Merged database</b>"
      ],
      "text/plain": [
       "<IPython.core.display.HTML object>"
      ]
     },
     "metadata": {},
     "output_type": "display_data"
    },
    {
     "name": "stdout",
     "output_type": "stream",
     "text": [
      "<class 'pandas.core.frame.DataFrame'>\n",
      "Int64Index: 3152 entries, 0 to 3151\n",
      "Data columns (total 12 columns):\n",
      " #   Column           Non-Null Count  Dtype  \n",
      "---  ------           --------------  -----  \n",
      " 0   title            3152 non-null   object \n",
      " 1   studio           3149 non-null   object \n",
      " 2   domestic_gross   3129 non-null   float64\n",
      " 3   foreign_gross    1891 non-null   object \n",
      " 4   year             3152 non-null   int64  \n",
      " 5   clean_title      3152 non-null   object \n",
      " 6   primary_title    3152 non-null   object \n",
      " 7   start_year       3152 non-null   int64  \n",
      " 8   genres           3152 non-null   object \n",
      " 9   averagerating    3152 non-null   float64\n",
      " 10  numvotes         3152 non-null   float64\n",
      " 11  runtime_minutes  3152 non-null   float64\n",
      "dtypes: float64(4), int64(2), object(6)\n",
      "memory usage: 320.1+ KB\n"
     ]
    }
   ],
   "source": [
    "display(HTML(\"<b>Movie gross.info</b>\"))\n",
    "movie_gross.info()\n",
    "\n",
    "# Select specific columns from sql_dataset\n",
    "sql_subset = sql_dataset[['primary_title', 'start_year','genres', 'averagerating', 'numvotes','runtime_minutes']].copy()\n",
    "\n",
    "# Clean title columns to avoid mismatches\n",
    "sql_subset['clean_title'] = sql_subset['primary_title'].str.lower().str.replace(r'[^a-z0-9\\s]', '', regex=True).str.strip()\n",
    "movie_gross['clean_title'] = movie_gross['title'].str.lower().str.replace(r'[^a-z0-9\\s]', '', regex=True).str.strip()\n",
    "\n",
    "# Merge the datasets\n",
    "merged = pd.merge(movie_gross, sql_subset, on='clean_title', how='inner')\n",
    "display(HTML(\"<b>Merged database</b>\"))\n",
    "merged.info()\n"
   ]
  },
  {
   "cell_type": "code",
   "execution_count": 11,
   "metadata": {},
   "outputs": [
    {
     "data": {
      "text/html": [
       "<b>Movie Budget.info</b>"
      ],
      "text/plain": [
       "<IPython.core.display.HTML object>"
      ]
     },
     "metadata": {},
     "output_type": "display_data"
    },
    {
     "name": "stdout",
     "output_type": "stream",
     "text": [
      "<class 'pandas.core.frame.DataFrame'>\n",
      "RangeIndex: 5782 entries, 0 to 5781\n",
      "Data columns (total 6 columns):\n",
      " #   Column             Non-Null Count  Dtype \n",
      "---  ------             --------------  ----- \n",
      " 0   id                 5782 non-null   int64 \n",
      " 1   release_date       5782 non-null   object\n",
      " 2   movie              5782 non-null   object\n",
      " 3   production_budget  5782 non-null   object\n",
      " 4   domestic_gross     5782 non-null   object\n",
      " 5   worldwide_gross    5782 non-null   object\n",
      "dtypes: int64(1), object(5)\n",
      "memory usage: 271.2+ KB\n"
     ]
    },
    {
     "data": {
      "text/html": [
       "<b>Merged_budget.info</b>"
      ],
      "text/plain": [
       "<IPython.core.display.HTML object>"
      ]
     },
     "metadata": {},
     "output_type": "display_data"
    },
    {
     "name": "stdout",
     "output_type": "stream",
     "text": [
      "<class 'pandas.core.frame.DataFrame'>\n",
      "Int64Index: 1502 entries, 0 to 1501\n",
      "Data columns (total 13 columns):\n",
      " #   Column             Non-Null Count  Dtype  \n",
      "---  ------             --------------  -----  \n",
      " 0   title              1502 non-null   object \n",
      " 1   studio             1502 non-null   object \n",
      " 2   domestic_gross     1501 non-null   float64\n",
      " 3   foreign_gross      1288 non-null   object \n",
      " 4   year               1502 non-null   int64  \n",
      " 5   clean_title        1502 non-null   object \n",
      " 6   primary_title      1502 non-null   object \n",
      " 7   start_year         1502 non-null   int64  \n",
      " 8   genres             1502 non-null   object \n",
      " 9   averagerating      1502 non-null   float64\n",
      " 10  numvotes           1502 non-null   float64\n",
      " 11  runtime_minutes    1502 non-null   float64\n",
      " 12  production_budget  1502 non-null   object \n",
      "dtypes: float64(4), int64(2), object(7)\n",
      "memory usage: 164.3+ KB\n"
     ]
    }
   ],
   "source": [
    "display(HTML(\"<b>Movie Budget.info</b>\"))\n",
    "movie_budgets.info()\n",
    "\n",
    "# Clean title column first\n",
    "movie_budgets['clean_title'] = movie_budgets['movie'].str.lower().str.replace(r'[^a-z0-9\\s]', '', regex=True).str.strip()\n",
    "\n",
    "# Then select needed columns including clean_title\n",
    "moviebudget_subset = movie_budgets[['clean_title', 'production_budget']].copy()\n",
    "\n",
    "# Merge\n",
    "merged_budget = pd.merge(merged, moviebudget_subset, on='clean_title', how='inner')\n",
    "display(HTML(\"<b>Merged_budget.info</b>\"))\n",
    "merged_budget.info()\n"
   ]
  },
  {
   "cell_type": "code",
   "execution_count": 12,
   "metadata": {},
   "outputs": [
    {
     "data": {
      "text/html": [
       "<b>TMBD movies.info</b>"
      ],
      "text/plain": [
       "<IPython.core.display.HTML object>"
      ]
     },
     "metadata": {},
     "output_type": "display_data"
    },
    {
     "name": "stdout",
     "output_type": "stream",
     "text": [
      "<class 'pandas.core.frame.DataFrame'>\n",
      "RangeIndex: 26517 entries, 0 to 26516\n",
      "Data columns (total 10 columns):\n",
      " #   Column             Non-Null Count  Dtype  \n",
      "---  ------             --------------  -----  \n",
      " 0   Unnamed: 0         26517 non-null  int64  \n",
      " 1   genre_ids          26517 non-null  object \n",
      " 2   id                 26517 non-null  int64  \n",
      " 3   original_language  26517 non-null  object \n",
      " 4   original_title     26517 non-null  object \n",
      " 5   popularity         26517 non-null  float64\n",
      " 6   release_date       26517 non-null  object \n",
      " 7   title              26517 non-null  object \n",
      " 8   vote_average       26517 non-null  float64\n",
      " 9   vote_count         26517 non-null  int64  \n",
      "dtypes: float64(2), int64(3), object(5)\n",
      "memory usage: 2.0+ MB\n"
     ]
    },
    {
     "data": {
      "text/html": [
       "<b>merged_budget_tmdb.info</b>"
      ],
      "text/plain": [
       "<IPython.core.display.HTML object>"
      ]
     },
     "metadata": {},
     "output_type": "display_data"
    },
    {
     "name": "stdout",
     "output_type": "stream",
     "text": [
      "<class 'pandas.core.frame.DataFrame'>\n",
      "Int64Index: 1930 entries, 0 to 1929\n",
      "Data columns (total 15 columns):\n",
      " #   Column             Non-Null Count  Dtype  \n",
      "---  ------             --------------  -----  \n",
      " 0   title              1930 non-null   object \n",
      " 1   studio             1930 non-null   object \n",
      " 2   domestic_gross     1929 non-null   float64\n",
      " 3   foreign_gross      1625 non-null   object \n",
      " 4   year               1930 non-null   int64  \n",
      " 5   clean_title        1930 non-null   object \n",
      " 6   primary_title      1930 non-null   object \n",
      " 7   start_year         1930 non-null   int64  \n",
      " 8   genres             1930 non-null   object \n",
      " 9   averagerating      1930 non-null   float64\n",
      " 10  numvotes           1930 non-null   float64\n",
      " 11  runtime_minutes    1930 non-null   float64\n",
      " 12  production_budget  1930 non-null   object \n",
      " 13  popularity         1930 non-null   float64\n",
      " 14  release_date       1930 non-null   object \n",
      "dtypes: float64(5), int64(2), object(8)\n",
      "memory usage: 241.2+ KB\n"
     ]
    }
   ],
   "source": [
    "display(HTML(\"<b>TMBD movies.info</b>\"))\n",
    "tmbd_movies.info()\n",
    "# Clean title column first\n",
    "tmbd_movies['clean_title'] = tmbd_movies['title'].str.lower().str.replace(r'[^a-z0-9\\s]', '', regex=True).str.strip()\n",
    "\n",
    "# Then select needed columns including clean_title\n",
    "tmbd_movies_subset = tmbd_movies[['clean_title', 'popularity', 'release_date']].copy()\n",
    "\n",
    "# Merge\n",
    "merged_budget_tmdb = pd.merge(merged_budget, tmbd_movies_subset, on='clean_title', how='inner')\n",
    "display(HTML(\"<b>merged_budget_tmdb.info</b>\"))\n",
    "merged_budget_tmdb.info()\n"
   ]
  },
  {
   "cell_type": "code",
   "execution_count": 13,
   "metadata": {},
   "outputs": [
    {
     "data": {
      "text/html": [
       "<div>\n",
       "<style scoped>\n",
       "    .dataframe tbody tr th:only-of-type {\n",
       "        vertical-align: middle;\n",
       "    }\n",
       "\n",
       "    .dataframe tbody tr th {\n",
       "        vertical-align: top;\n",
       "    }\n",
       "\n",
       "    .dataframe thead th {\n",
       "        text-align: right;\n",
       "    }\n",
       "</style>\n",
       "<table border=\"1\" class=\"dataframe\">\n",
       "  <thead>\n",
       "    <tr style=\"text-align: right;\">\n",
       "      <th></th>\n",
       "      <th>title</th>\n",
       "      <th>studio</th>\n",
       "      <th>domestic_gross</th>\n",
       "      <th>foreign_gross</th>\n",
       "      <th>year</th>\n",
       "      <th>clean_title</th>\n",
       "      <th>primary_title</th>\n",
       "      <th>start_year</th>\n",
       "      <th>genres</th>\n",
       "      <th>averagerating</th>\n",
       "      <th>numvotes</th>\n",
       "      <th>runtime_minutes</th>\n",
       "      <th>production_budget</th>\n",
       "      <th>popularity</th>\n",
       "      <th>release_date</th>\n",
       "    </tr>\n",
       "  </thead>\n",
       "  <tbody>\n",
       "    <tr>\n",
       "      <th>0</th>\n",
       "      <td>Toy Story 3</td>\n",
       "      <td>BV</td>\n",
       "      <td>415000000.0</td>\n",
       "      <td>652000000</td>\n",
       "      <td>2010</td>\n",
       "      <td>toy story 3</td>\n",
       "      <td>Toy Story 3</td>\n",
       "      <td>2010</td>\n",
       "      <td>Adventure,Animation,Comedy</td>\n",
       "      <td>8.3</td>\n",
       "      <td>682218.0</td>\n",
       "      <td>103.0</td>\n",
       "      <td>$200,000,000</td>\n",
       "      <td>24.445</td>\n",
       "      <td>2010-06-17</td>\n",
       "    </tr>\n",
       "    <tr>\n",
       "      <th>1</th>\n",
       "      <td>Inception</td>\n",
       "      <td>WB</td>\n",
       "      <td>292600000.0</td>\n",
       "      <td>535700000</td>\n",
       "      <td>2010</td>\n",
       "      <td>inception</td>\n",
       "      <td>Inception</td>\n",
       "      <td>2010</td>\n",
       "      <td>Action,Adventure,Sci-Fi</td>\n",
       "      <td>8.8</td>\n",
       "      <td>1841066.0</td>\n",
       "      <td>148.0</td>\n",
       "      <td>$160,000,000</td>\n",
       "      <td>27.920</td>\n",
       "      <td>2010-07-16</td>\n",
       "    </tr>\n",
       "    <tr>\n",
       "      <th>2</th>\n",
       "      <td>Shrek Forever After</td>\n",
       "      <td>P/DW</td>\n",
       "      <td>238700000.0</td>\n",
       "      <td>513900000</td>\n",
       "      <td>2010</td>\n",
       "      <td>shrek forever after</td>\n",
       "      <td>Shrek Forever After</td>\n",
       "      <td>2010</td>\n",
       "      <td>Adventure,Animation,Comedy</td>\n",
       "      <td>6.3</td>\n",
       "      <td>167532.0</td>\n",
       "      <td>93.0</td>\n",
       "      <td>$165,000,000</td>\n",
       "      <td>15.041</td>\n",
       "      <td>2010-05-16</td>\n",
       "    </tr>\n",
       "    <tr>\n",
       "      <th>3</th>\n",
       "      <td>The Twilight Saga: Eclipse</td>\n",
       "      <td>Sum.</td>\n",
       "      <td>300500000.0</td>\n",
       "      <td>398000000</td>\n",
       "      <td>2010</td>\n",
       "      <td>the twilight saga eclipse</td>\n",
       "      <td>The Twilight Saga: Eclipse</td>\n",
       "      <td>2010</td>\n",
       "      <td>Adventure,Drama,Fantasy</td>\n",
       "      <td>5.0</td>\n",
       "      <td>211733.0</td>\n",
       "      <td>124.0</td>\n",
       "      <td>$68,000,000</td>\n",
       "      <td>20.340</td>\n",
       "      <td>2010-06-23</td>\n",
       "    </tr>\n",
       "    <tr>\n",
       "      <th>4</th>\n",
       "      <td>Iron Man 2</td>\n",
       "      <td>Par.</td>\n",
       "      <td>312400000.0</td>\n",
       "      <td>311500000</td>\n",
       "      <td>2010</td>\n",
       "      <td>iron man 2</td>\n",
       "      <td>Iron Man 2</td>\n",
       "      <td>2010</td>\n",
       "      <td>Action,Adventure,Sci-Fi</td>\n",
       "      <td>7.0</td>\n",
       "      <td>657690.0</td>\n",
       "      <td>124.0</td>\n",
       "      <td>$170,000,000</td>\n",
       "      <td>28.515</td>\n",
       "      <td>2010-05-07</td>\n",
       "    </tr>\n",
       "  </tbody>\n",
       "</table>\n",
       "</div>"
      ],
      "text/plain": [
       "                        title studio  domestic_gross foreign_gross  year  \\\n",
       "0                 Toy Story 3     BV     415000000.0     652000000  2010   \n",
       "1                   Inception     WB     292600000.0     535700000  2010   \n",
       "2         Shrek Forever After   P/DW     238700000.0     513900000  2010   \n",
       "3  The Twilight Saga: Eclipse   Sum.     300500000.0     398000000  2010   \n",
       "4                  Iron Man 2   Par.     312400000.0     311500000  2010   \n",
       "\n",
       "                 clean_title               primary_title  start_year  \\\n",
       "0                toy story 3                 Toy Story 3        2010   \n",
       "1                  inception                   Inception        2010   \n",
       "2        shrek forever after         Shrek Forever After        2010   \n",
       "3  the twilight saga eclipse  The Twilight Saga: Eclipse        2010   \n",
       "4                 iron man 2                  Iron Man 2        2010   \n",
       "\n",
       "                       genres  averagerating   numvotes  runtime_minutes  \\\n",
       "0  Adventure,Animation,Comedy            8.3   682218.0            103.0   \n",
       "1     Action,Adventure,Sci-Fi            8.8  1841066.0            148.0   \n",
       "2  Adventure,Animation,Comedy            6.3   167532.0             93.0   \n",
       "3     Adventure,Drama,Fantasy            5.0   211733.0            124.0   \n",
       "4     Action,Adventure,Sci-Fi            7.0   657690.0            124.0   \n",
       "\n",
       "  production_budget  popularity release_date  \n",
       "0      $200,000,000      24.445   2010-06-17  \n",
       "1      $160,000,000      27.920   2010-07-16  \n",
       "2      $165,000,000      15.041   2010-05-16  \n",
       "3       $68,000,000      20.340   2010-06-23  \n",
       "4      $170,000,000      28.515   2010-05-07  "
      ]
     },
     "execution_count": 13,
     "metadata": {},
     "output_type": "execute_result"
    }
   ],
   "source": [
    "final_dataset=merged_budget_tmdb\n",
    "final_dataset.head()"
   ]
  },
  {
   "cell_type": "code",
   "execution_count": 14,
   "metadata": {},
   "outputs": [
    {
     "data": {
      "text/html": [
       "<b>Duplicates</b>"
      ],
      "text/plain": [
       "<IPython.core.display.HTML object>"
      ]
     },
     "metadata": {},
     "output_type": "display_data"
    },
    {
     "data": {
      "text/plain": [
       "175"
      ]
     },
     "execution_count": 14,
     "metadata": {},
     "output_type": "execute_result"
    }
   ],
   "source": [
    "\n",
    "#Foreign gross column is object and it's supposed to be float\n",
    "final_dataset['foreign_gross'] = pd.to_numeric(final_dataset['foreign_gross'], errors='coerce')\n",
    "final_dataset['foreign_gross'].fillna(0, inplace=True)\n",
    "\n",
    "#Filling null values in domestic gross\n",
    "final_dataset['domestic_gross'].fillna(0, inplace=True)\n",
    "# Cleaning the production budget column.Remove dollar signs and commas, then convert to float\n",
    "final_dataset['production_budget'] = final_dataset['production_budget'].replace('[\\$,]', '', regex=True).astype(float)\n",
    "\n",
    "display(HTML(\"<b>Duplicates</b>\"))\n",
    "final_dataset.duplicated().sum()\n"
   ]
  },
  {
   "cell_type": "markdown",
   "metadata": {},
   "source": [
    "### DUPLICATES"
   ]
  },
  {
   "cell_type": "code",
   "execution_count": 15,
   "metadata": {},
   "outputs": [
    {
     "name": "stdout",
     "output_type": "stream",
     "text": [
      "Number of duplicate rows (based on 'clean_title') before dropping: 686\n",
      "\n",
      " Data info after dropping duplicates:\n",
      "<class 'pandas.core.frame.DataFrame'>\n",
      "Int64Index: 1244 entries, 0 to 1928\n",
      "Data columns (total 15 columns):\n",
      " #   Column             Non-Null Count  Dtype  \n",
      "---  ------             --------------  -----  \n",
      " 0   title              1244 non-null   object \n",
      " 1   studio             1244 non-null   object \n",
      " 2   domestic_gross     1244 non-null   float64\n",
      " 3   foreign_gross      1244 non-null   float64\n",
      " 4   year               1244 non-null   int64  \n",
      " 5   clean_title        1244 non-null   object \n",
      " 6   primary_title      1244 non-null   object \n",
      " 7   start_year         1244 non-null   int64  \n",
      " 8   genres             1244 non-null   object \n",
      " 9   averagerating      1244 non-null   float64\n",
      " 10  numvotes           1244 non-null   float64\n",
      " 11  runtime_minutes    1244 non-null   float64\n",
      " 12  production_budget  1244 non-null   float64\n",
      " 13  popularity         1244 non-null   float64\n",
      " 14  release_date       1244 non-null   object \n",
      "dtypes: float64(7), int64(2), object(6)\n",
      "memory usage: 155.5+ KB\n",
      "\n",
      "Number of duplicate rows (based on 'clean_title') after dropping: 0\n"
     ]
    }
   ],
   "source": [
    "# Check and display the number of duplicates based on 'clean_title'\n",
    "duplicate_count = final_dataset.duplicated(subset='clean_title').sum()\n",
    "print(f\"Number of duplicate rows (based on 'clean_title') before dropping: {duplicate_count}\")\n",
    "\n",
    "# Drop duplicates based on 'clean_title'\n",
    "final_dataset = merged_budget_tmdb.drop_duplicates(subset='clean_title')\n",
    "\n",
    "# Confirm removal by checking info and counting duplicates again\n",
    "print(\"\\n Data info after dropping duplicates:\")\n",
    "final_dataset.info()\n",
    "\n",
    "# Final check to ensure duplicates are removed\n",
    "final_duplicates = final_dataset.duplicated(subset='clean_title').sum()\n",
    "print(f\"\\nNumber of duplicate rows (based on 'clean_title') after dropping: {final_duplicates}\")\n"
   ]
  },
  {
   "cell_type": "code",
   "execution_count": 16,
   "metadata": {},
   "outputs": [
    {
     "name": "stdout",
     "output_type": "stream",
     "text": [
      "<class 'pandas.core.frame.DataFrame'>\n",
      "Int64Index: 1244 entries, 0 to 1928\n",
      "Data columns (total 13 columns):\n",
      " #   Column              Non-Null Count  Dtype  \n",
      "---  ------              --------------  -----  \n",
      " 0   studio              1244 non-null   object \n",
      " 1   domestic_gross      1244 non-null   float64\n",
      " 2   foreign_gross       1244 non-null   float64\n",
      " 3   year                1244 non-null   int64  \n",
      " 4   clean_title         1244 non-null   object \n",
      " 5   start_year          1244 non-null   int64  \n",
      " 6   genres              1244 non-null   object \n",
      " 7   averagerating       1244 non-null   float64\n",
      " 8   numvotes            1244 non-null   float64\n",
      " 9   runtime_minutes     1244 non-null   float64\n",
      " 10  production_budget   1244 non-null   float64\n",
      " 11  popularity          1244 non-null   float64\n",
      " 12  release_month_name  1244 non-null   object \n",
      "dtypes: float64(7), int64(2), object(4)\n",
      "memory usage: 136.1+ KB\n"
     ]
    }
   ],
   "source": [
    "\n",
    "final_dataset = final_dataset.copy()\n",
    "\n",
    "# Convert release_date to datetime and extract month name\n",
    "final_dataset['release_date'] = pd.to_datetime(\n",
    "    final_dataset['release_date'],\n",
    "    errors='coerce'  # handles invalid dates by converting to NaT\n",
    ")\n",
    "\n",
    "final_dataset['release_month_name'] = final_dataset['release_date'].dt.month_name()\n",
    "\n",
    "# Drop unnecessary columns\n",
    "final_dataset.drop(\n",
    "    columns=['primary_title', 'title', 'release_date'],\n",
    "    inplace=True,\n",
    "    errors='ignore'  # prevents error if columns don't exist\n",
    ")\n",
    "\n",
    "# Verify the changes\n",
    "final_dataset.info()"
   ]
  },
  {
   "cell_type": "markdown",
   "metadata": {},
   "source": [
    "## Feature engineering"
   ]
  },
  {
   "cell_type": "code",
   "execution_count": 17,
   "metadata": {},
   "outputs": [],
   "source": [
    "# Create an explicit copy to modify\n",
    "final_dataset = final_dataset.copy()\n",
    "\n",
    "# Now safely add new columns\n",
    "final_dataset['roi'] = (final_dataset['foreign_gross'] - final_dataset['production_budget']) / final_dataset['production_budget']\n",
    "final_dataset['profit'] = final_dataset['foreign_gross'] - final_dataset['production_budget']"
   ]
  },
  {
   "cell_type": "code",
   "execution_count": 18,
   "metadata": {},
   "outputs": [
    {
     "name": "stdout",
     "output_type": "stream",
     "text": [
      "<class 'pandas.core.frame.DataFrame'>\n",
      "Int64Index: 1244 entries, 0 to 1928\n",
      "Data columns (total 15 columns):\n",
      " #   Column              Non-Null Count  Dtype  \n",
      "---  ------              --------------  -----  \n",
      " 0   studio              1244 non-null   object \n",
      " 1   domestic_gross      1244 non-null   float64\n",
      " 2   foreign_gross       1244 non-null   float64\n",
      " 3   year                1244 non-null   int64  \n",
      " 4   clean_title         1244 non-null   object \n",
      " 5   start_year          1244 non-null   int64  \n",
      " 6   genres              1244 non-null   object \n",
      " 7   averagerating       1244 non-null   float64\n",
      " 8   numvotes            1244 non-null   float64\n",
      " 9   runtime_minutes     1244 non-null   float64\n",
      " 10  production_budget   1244 non-null   float64\n",
      " 11  popularity          1244 non-null   float64\n",
      " 12  release_month_name  1244 non-null   object \n",
      " 13  roi                 1244 non-null   float64\n",
      " 14  profit              1244 non-null   float64\n",
      "dtypes: float64(9), int64(2), object(4)\n",
      "memory usage: 155.5+ KB\n"
     ]
    }
   ],
   "source": [
    "final_dataset.info()\n"
   ]
  },
  {
   "cell_type": "markdown",
   "metadata": {},
   "source": [
    "# EXPLORATORY DATA ANALYSIS"
   ]
  },
  {
   "cell_type": "code",
   "execution_count": 19,
   "metadata": {},
   "outputs": [],
   "source": [
    "# Import libraries for visualisation and analysis\n",
    "import matplotlib.pyplot as plt\n",
    "import seaborn as sns\n",
    "import numpy as np"
   ]
  },
  {
   "cell_type": "markdown",
   "metadata": {},
   "source": [
    "**Note:** The dataset contains movies with multiple genres (e.g. \"Action,Adventure\"). To allow us to analyse each genre in isolation, we have used the variable genre_split to split these movies into individual rows per genre using .str.split(',') and .explode()."
   ]
  },
  {
   "cell_type": "code",
   "execution_count": 20,
   "metadata": {},
   "outputs": [
    {
     "data": {
      "text/html": [
       "<div>\n",
       "<style scoped>\n",
       "    .dataframe tbody tr th:only-of-type {\n",
       "        vertical-align: middle;\n",
       "    }\n",
       "\n",
       "    .dataframe tbody tr th {\n",
       "        vertical-align: top;\n",
       "    }\n",
       "\n",
       "    .dataframe thead th {\n",
       "        text-align: right;\n",
       "    }\n",
       "</style>\n",
       "<table border=\"1\" class=\"dataframe\">\n",
       "  <thead>\n",
       "    <tr style=\"text-align: right;\">\n",
       "      <th></th>\n",
       "      <th>clean_title</th>\n",
       "      <th>genres</th>\n",
       "    </tr>\n",
       "  </thead>\n",
       "  <tbody>\n",
       "    <tr>\n",
       "      <th>0</th>\n",
       "      <td>toy story 3</td>\n",
       "      <td>Adventure</td>\n",
       "    </tr>\n",
       "    <tr>\n",
       "      <th>0</th>\n",
       "      <td>toy story 3</td>\n",
       "      <td>Animation</td>\n",
       "    </tr>\n",
       "    <tr>\n",
       "      <th>0</th>\n",
       "      <td>toy story 3</td>\n",
       "      <td>Comedy</td>\n",
       "    </tr>\n",
       "    <tr>\n",
       "      <th>1</th>\n",
       "      <td>inception</td>\n",
       "      <td>Action</td>\n",
       "    </tr>\n",
       "    <tr>\n",
       "      <th>1</th>\n",
       "      <td>inception</td>\n",
       "      <td>Adventure</td>\n",
       "    </tr>\n",
       "    <tr>\n",
       "      <th>1</th>\n",
       "      <td>inception</td>\n",
       "      <td>Sci-Fi</td>\n",
       "    </tr>\n",
       "    <tr>\n",
       "      <th>2</th>\n",
       "      <td>shrek forever after</td>\n",
       "      <td>Adventure</td>\n",
       "    </tr>\n",
       "    <tr>\n",
       "      <th>2</th>\n",
       "      <td>shrek forever after</td>\n",
       "      <td>Animation</td>\n",
       "    </tr>\n",
       "    <tr>\n",
       "      <th>2</th>\n",
       "      <td>shrek forever after</td>\n",
       "      <td>Comedy</td>\n",
       "    </tr>\n",
       "    <tr>\n",
       "      <th>3</th>\n",
       "      <td>the twilight saga eclipse</td>\n",
       "      <td>Adventure</td>\n",
       "    </tr>\n",
       "  </tbody>\n",
       "</table>\n",
       "</div>"
      ],
      "text/plain": [
       "                 clean_title     genres\n",
       "0                toy story 3  Adventure\n",
       "0                toy story 3  Animation\n",
       "0                toy story 3     Comedy\n",
       "1                  inception     Action\n",
       "1                  inception  Adventure\n",
       "1                  inception     Sci-Fi\n",
       "2        shrek forever after  Adventure\n",
       "2        shrek forever after  Animation\n",
       "2        shrek forever after     Comedy\n",
       "3  the twilight saga eclipse  Adventure"
      ]
     },
     "execution_count": 20,
     "metadata": {},
     "output_type": "execute_result"
    }
   ],
   "source": [
    "# Split the multigenre films by each individual column\n",
    "genre_split = final_dataset.assign(genres=final_dataset['genres'].str.split(',')).explode('genres')\n",
    "\n",
    "# Displaying some examples of what has occured\n",
    "genre_split.loc[:,['clean_title', 'genres']].head(10)"
   ]
  },
  {
   "cell_type": "markdown",
   "metadata": {},
   "source": [
    "## Movie Popularity by Genre"
   ]
  },
  {
   "cell_type": "markdown",
   "metadata": {},
   "source": [
    "Here we analyse the distribution of popularity scores of each genre of film. This is helpful as we can understand the general trend of viewership for each genre. This could help identify which type of film most consumers have naturally gravitated to in the past as well as which types of films didn't generate that same level of mainstream interest."
   ]
  },
  {
   "cell_type": "code",
   "execution_count": 23,
   "metadata": {},
   "outputs": [
    {
     "data": {
      "image/png": "[encoded data removed]",
      "text/plain": [
       "<Figure size 864x432 with 1 Axes>"
      ]
     },
     "metadata": {
      "needs_background": "light"
     },
     "output_type": "display_data"
    }
   ],
   "source": [
    "# Plot a boxplot    \n",
    "plt.figure(figsize=(12, 6))\n",
    "sns.boxplot(data=genre_split, x='genres', y='popularity')\n",
    "plt.xticks(rotation=45)\n",
    "plt.title('Movie Popularity by Genre')\n",
    "plt.xlabel('Genre') \n",
    "plt.ylabel('Popularity')\n",
    "plt.tight_layout()\n",
    "plt.show();"
   ]
  },
  {
   "cell_type": "markdown",
   "metadata": {},
   "source": [
    "**Findings**\n",
    "\n",
    "Adventure, Action, and Sci-Fi emerged as the most popular genres based on:  \n",
    "- Higher median popularity scores\n",
    "- A wide spread of values, indicating a high number of popular titles\n",
    "- Presence of outliers representing blockbuster hits\n",
    "\n",
    "Other genres showed:  \n",
    "- Lower median popularity\n",
    "- Narrower popularity ranges, indicating niche appeal or limited audience reach"
   ]
  },
  {
   "cell_type": "markdown",
   "metadata": {},
   "source": [
    "## Average Rating by Genre"
   ]
  },
  {
   "cell_type": "markdown",
   "metadata": {},
   "source": [
    "Here we analyse the mean 'averagerating' of each genre of film. This is helpful as it can help us ascertain which genre of films consumers are enjoying the most (and least). This could help identify a type of film that market could be in demand for, based on past experiences."
   ]
  },
  {
   "cell_type": "code",
   "execution_count": 24,
   "metadata": {},
   "outputs": [
    {
     "data": {
      "text/plain": [
       "genres\n",
       "History        7.132432\n",
       "Biography      7.033613\n",
       "Documentary    6.952381\n",
       "Drama          6.664263\n",
       "Sport          6.662500\n",
       "Sci-Fi         6.639815\n",
       "Musical        6.633333\n",
       "Western        6.600000\n",
       "Animation      6.591398\n",
       "Adventure      6.524342\n",
       "Crime          6.489175\n",
       "War            6.485714\n",
       "Action         6.459786\n",
       "Music          6.404878\n",
       "Romance        6.398295\n",
       "Comedy         6.322101\n",
       "Mystery        6.256481\n",
       "Fantasy        6.224771\n",
       "Thriller       6.204306\n",
       "Family         6.086301\n",
       "Horror         5.774219\n",
       "Name: averagerating, dtype: float64"
      ]
     },
     "execution_count": 24,
     "metadata": {},
     "output_type": "execute_result"
    }
   ],
   "source": [
    "# Average Rating by Genre\n",
    "avg_rtg_by_genre = genre_split.groupby('genres')['averagerating'].mean().sort_values(ascending=False)\n",
    "avg_rtg_by_genre"
   ]
  },
  {
   "cell_type": "code",
   "execution_count": 25,
   "metadata": {},
   "outputs": [
    {
     "data": {
      "image/png": "[encoded data removed]",
      "text/plain": [
       "<Figure size 864x432 with 1 Axes>"
      ]
     },
     "metadata": {
      "needs_background": "light"
     },
     "output_type": "display_data"
    }
   ],
   "source": [
    "# Plot the bar chart\n",
    "plt.figure(figsize=(12, 6))\n",
    "avg_rtg_by_genre.sort_values(ascending=False).plot(kind='bar')\n",
    "plt.title('Average Rating by Genre')\n",
    "plt.xlabel('Genre')\n",
    "plt.ylabel('Average Rating')\n",
    "plt.ylim(0, 10)\n",
    "plt.xticks(rotation=45, ha='right')\n",
    "plt.tight_layout()\n",
    "plt.show();"
   ]
  },
  {
   "cell_type": "markdown",
   "metadata": {},
   "source": [
    "### Findings\n",
    "\n",
    "History, Documentary, and Biography emerged as the highest-rated genres based on:  \n",
    "- Higher average audience ratings (all above 6.9)\n",
    "- A clear lead over other genres in average rating, suggesting stronger overall audience appreciation\n",
    "\n",
    "Other genres showed:  \n",
    "- Lower average ratings\n",
    "- Smaller separation between mean scores, making it harder to identify standout performers"
   ]
  },
  {
   "cell_type": "markdown",
   "metadata": {},
   "source": [
    "## Average ROI by Genre"
   ]
  },
  {
   "cell_type": "markdown",
   "metadata": {},
   "source": [
    "Next we analyse the average return on investment for each genre of film. This is helpful as we can identify with types of films commercially rewarding investors the most relative to the level of investment."
   ]
  },
  {
   "cell_type": "code",
   "execution_count": 27,
   "metadata": {},
   "outputs": [
    {
     "data": {
      "text/plain": [
       "genres\n",
       "Horror         5.052442\n",
       "Mystery        4.959951\n",
       "Thriller       3.049005\n",
       "Animation      1.352319\n",
       "Sci-Fi         1.119079\n",
       "Music          1.023032\n",
       "Adventure      0.952385\n",
       "Biography      0.854753\n",
       "History        0.836139\n",
       "Sport          0.833461\n",
       "Action         0.692122\n",
       "Romance        0.663346\n",
       "Comedy         0.626354\n",
       "Fantasy        0.532128\n",
       "Drama          0.525392\n",
       "Documentary    0.479759\n",
       "Musical        0.437684\n",
       "Family         0.238560\n",
       "Crime          0.083375\n",
       "Western       -0.276210\n",
       "War           -0.332569\n",
       "Name: roi, dtype: float64"
      ]
     },
     "execution_count": 27,
     "metadata": {},
     "output_type": "execute_result"
    }
   ],
   "source": [
    "# Group by genre and calculate average ROI\n",
    "avg_roi_by_genre = genre_split.groupby('genres')['roi'].mean().sort_values(ascending=False)\n",
    "avg_roi_by_genre"
   ]
  },
  {
   "cell_type": "code",
   "execution_count": 28,
   "metadata": {},
   "outputs": [
    {
     "data": {
      "image/png": "[encoded data removed]",
      "text/plain": [
       "<Figure size 864x432 with 1 Axes>"
      ]
     },
     "metadata": {
      "needs_background": "light"
     },
     "output_type": "display_data"
    }
   ],
   "source": [
    "# Plot a bar chart\n",
    "avg_roi_by_genre.plot(kind='bar', figsize=(12, 6), title= \"Mean ROI by Genre \")\n",
    "plt.ylabel(\"Mean ROI\")\n",
    "plt.xlabel(\"Genre\")\n",
    "plt.xticks(rotation=45)\n",
    "plt.axhline(0, color='grey', linestyle='--')\n",
    "plt.tight_layout()\n",
    "plt.show();"
   ]
  },
  {
   "cell_type": "markdown",
   "metadata": {},
   "source": [
    "**Findings**:\n",
    "\n",
    "Horror, Mystery and Thriller emerged as the most profitable genres based on:\n",
    "\n",
    "- Relatively high ROI rates with all having an average of above 3.0\n",
    "- A clear lead over other genres in average ROI, suggesting consistent ability to maximise on investment\n",
    "\n",
    "Other genres showed:\n",
    "\n",
    "- Low average ROI rates\n",
    "- Suggests struggles to maintain low production costs on these genres\n",
    "- May also suggest struggles to attract mainstream commercial interest"
   ]
  },
  {
   "cell_type": "markdown",
   "metadata": {},
   "source": [
    "## Median ROI By Budget Group"
   ]
  },
  {
   "cell_type": "markdown",
   "metadata": {},
   "source": [
    "Here we analyse the median return on investment based on the budget of the film. This is helpful as we can see how the budget relates to the commercial success of a film. This can help inform stakeholders on ideal budgets to aim for so they can feel comfortable with the investment."
   ]
  },
  {
   "cell_type": "code",
   "execution_count": 29,
   "metadata": {},
   "outputs": [],
   "source": [
    "# Create budget groups\n",
    "final_dataset['budget_group'] = pd.cut(\n",
    "                                    final_dataset['production_budget']/1e6, # Dividing by a budget by a million \n",
    "                                    bins=[0, 20, 50, 100, 200, 500], \n",
    "                                    labels=['<20M', '20-50M', '50-100M', '100-200M', '200M+'])"
   ]
  },
  {
   "cell_type": "code",
   "execution_count": 30,
   "metadata": {},
   "outputs": [
    {
     "data": {
      "image/png": "[encoded data removed]",
      "text/plain": [
       "<Figure size 576x288 with 1 Axes>"
      ]
     },
     "metadata": {
      "needs_background": "light"
     },
     "output_type": "display_data"
    }
   ],
   "source": [
    "# Plot median ROI per budget group\n",
    "plt.figure(figsize=(8,4))\n",
    "final_dataset.groupby('budget_group')['roi'].median().plot(kind='bar', color=\"blue\")\n",
    "plt.title('Median ROI by Budget Group')\n",
    "plt.xlabel('Production Budget ($M)')\n",
    "plt.ylabel('ROI')\n",
    "plt.axhline(0, color='grey', linestyle='--')\n",
    "plt.show()"
   ]
  },
  {
   "cell_type": "markdown",
   "metadata": {},
   "source": [
    "**Findings**:\n",
    "\n",
    "The median ROI increases as the budget increases:\n",
    "- This may be an indicator that investing more money in a film yields greater financial success\n",
    "- This could because big budget films can afford better and more recognisable talent, including actors, directors, visual fx and more\n",
    "- These films also may be able to spend more on marketing leading to a greater out reach\n",
    "\n",
    "Must be noted that this **does not** necessarily mean as a general rule that \"the higher the budget, the greater the ROI\":\n",
    "- The sample size for the >200m and <20m films is small and more susceptible to outliers\n",
    "- The budgets are often linked to the genre of film, so these results could also be more representive of genre"
   ]
  },
  {
   "cell_type": "markdown",
   "metadata": {},
   "source": [
    "## ROI Distribution by Runtime"
   ]
  },
  {
   "cell_type": "markdown",
   "metadata": {},
   "source": [
    "Here we analyse the return on investment by the runtime of films. This is helpful as we can identify the sweet-spot of film length, which the production team can aim for."
   ]
  },
  {
   "cell_type": "code",
   "execution_count": 31,
   "metadata": {},
   "outputs": [
    {
     "data": {
      "text/html": [
       "<div>\n",
       "<style scoped>\n",
       "    .dataframe tbody tr th:only-of-type {\n",
       "        vertical-align: middle;\n",
       "    }\n",
       "\n",
       "    .dataframe tbody tr th {\n",
       "        vertical-align: top;\n",
       "    }\n",
       "\n",
       "    .dataframe thead th {\n",
       "        text-align: right;\n",
       "    }\n",
       "</style>\n",
       "<table border=\"1\" class=\"dataframe\">\n",
       "  <thead>\n",
       "    <tr style=\"text-align: right;\">\n",
       "      <th></th>\n",
       "      <th>studio</th>\n",
       "      <th>domestic_gross</th>\n",
       "      <th>foreign_gross</th>\n",
       "      <th>year</th>\n",
       "      <th>clean_title</th>\n",
       "      <th>start_year</th>\n",
       "      <th>genres</th>\n",
       "      <th>averagerating</th>\n",
       "      <th>numvotes</th>\n",
       "      <th>runtime_minutes</th>\n",
       "      <th>production_budget</th>\n",
       "      <th>popularity</th>\n",
       "      <th>release_month_name</th>\n",
       "      <th>roi</th>\n",
       "      <th>profit</th>\n",
       "      <th>budget_group</th>\n",
       "    </tr>\n",
       "    <tr>\n",
       "      <th>runtime_bin</th>\n",
       "      <th></th>\n",
       "      <th></th>\n",
       "      <th></th>\n",
       "      <th></th>\n",
       "      <th></th>\n",
       "      <th></th>\n",
       "      <th></th>\n",
       "      <th></th>\n",
       "      <th></th>\n",
       "      <th></th>\n",
       "      <th></th>\n",
       "      <th></th>\n",
       "      <th></th>\n",
       "      <th></th>\n",
       "      <th></th>\n",
       "      <th></th>\n",
       "    </tr>\n",
       "  </thead>\n",
       "  <tbody>\n",
       "    <tr>\n",
       "      <th>&lt;90</th>\n",
       "      <td>151</td>\n",
       "      <td>151</td>\n",
       "      <td>151</td>\n",
       "      <td>151</td>\n",
       "      <td>151</td>\n",
       "      <td>151</td>\n",
       "      <td>151</td>\n",
       "      <td>151</td>\n",
       "      <td>151</td>\n",
       "      <td>151</td>\n",
       "      <td>151</td>\n",
       "      <td>151</td>\n",
       "      <td>151</td>\n",
       "      <td>151</td>\n",
       "      <td>151</td>\n",
       "      <td>151</td>\n",
       "    </tr>\n",
       "    <tr>\n",
       "      <th>90-120</th>\n",
       "      <td>823</td>\n",
       "      <td>823</td>\n",
       "      <td>823</td>\n",
       "      <td>823</td>\n",
       "      <td>823</td>\n",
       "      <td>823</td>\n",
       "      <td>823</td>\n",
       "      <td>823</td>\n",
       "      <td>823</td>\n",
       "      <td>823</td>\n",
       "      <td>823</td>\n",
       "      <td>823</td>\n",
       "      <td>823</td>\n",
       "      <td>823</td>\n",
       "      <td>823</td>\n",
       "      <td>823</td>\n",
       "    </tr>\n",
       "    <tr>\n",
       "      <th>120-180</th>\n",
       "      <td>270</td>\n",
       "      <td>270</td>\n",
       "      <td>270</td>\n",
       "      <td>270</td>\n",
       "      <td>270</td>\n",
       "      <td>270</td>\n",
       "      <td>270</td>\n",
       "      <td>270</td>\n",
       "      <td>270</td>\n",
       "      <td>270</td>\n",
       "      <td>270</td>\n",
       "      <td>270</td>\n",
       "      <td>270</td>\n",
       "      <td>270</td>\n",
       "      <td>270</td>\n",
       "      <td>270</td>\n",
       "    </tr>\n",
       "    <tr>\n",
       "      <th>180+</th>\n",
       "      <td>0</td>\n",
       "      <td>0</td>\n",
       "      <td>0</td>\n",
       "      <td>0</td>\n",
       "      <td>0</td>\n",
       "      <td>0</td>\n",
       "      <td>0</td>\n",
       "      <td>0</td>\n",
       "      <td>0</td>\n",
       "      <td>0</td>\n",
       "      <td>0</td>\n",
       "      <td>0</td>\n",
       "      <td>0</td>\n",
       "      <td>0</td>\n",
       "      <td>0</td>\n",
       "      <td>0</td>\n",
       "    </tr>\n",
       "  </tbody>\n",
       "</table>\n",
       "</div>"
      ],
      "text/plain": [
       "             studio  domestic_gross  foreign_gross  year  clean_title  \\\n",
       "runtime_bin                                                             \n",
       "<90             151             151            151   151          151   \n",
       "90-120          823             823            823   823          823   \n",
       "120-180         270             270            270   270          270   \n",
       "180+              0               0              0     0            0   \n",
       "\n",
       "             start_year  genres  averagerating  numvotes  runtime_minutes  \\\n",
       "runtime_bin                                                                 \n",
       "<90                 151     151            151       151              151   \n",
       "90-120              823     823            823       823              823   \n",
       "120-180             270     270            270       270              270   \n",
       "180+                  0       0              0         0                0   \n",
       "\n",
       "             production_budget  popularity  release_month_name  roi  profit  \\\n",
       "runtime_bin                                                                   \n",
       "<90                        151         151                 151  151     151   \n",
       "90-120                     823         823                 823  823     823   \n",
       "120-180                    270         270                 270  270     270   \n",
       "180+                         0           0                   0    0       0   \n",
       "\n",
       "             budget_group  \n",
       "runtime_bin                \n",
       "<90                   151  \n",
       "90-120                823  \n",
       "120-180               270  \n",
       "180+                    0  "
      ]
     },
     "execution_count": 31,
     "metadata": {},
     "output_type": "execute_result"
    }
   ],
   "source": [
    "# Create runtime bins\n",
    "final_dataset['runtime_bin'] = pd.cut(\n",
    "    final_dataset['runtime_minutes'],\n",
    "    bins=[0, 90, 120, 180, np.inf],\n",
    "    labels=['<90', '90-120', '120-180', '180+'])\n",
    "final_dataset.groupby(['runtime_bin']).count()"
   ]
  },
  {
   "cell_type": "code",
   "execution_count": 32,
   "metadata": {},
   "outputs": [
    {
     "data": {
      "image/png": "[encoded data removed]",
      "text/plain": [
       "<Figure size 720x360 with 1 Axes>"
      ]
     },
     "metadata": {
      "needs_background": "light"
     },
     "output_type": "display_data"
    }
   ],
   "source": [
    "# Plot a boxplot\n",
    "plt.figure(figsize=(10, 5))\n",
    "sns.boxplot(\n",
    "    x='runtime_bin',\n",
    "    y='roi',\n",
    "    data=final_dataset,\n",
    "    showfliers=False # Hide outliers\n",
    ")\n",
    "plt.title('ROI Distribution by Runtime')\n",
    "plt.xlabel('Runtime (minutes)')\n",
    "plt.ylabel('ROI')\n",
    "plt.axhline(0, color='grey', linestyle='--')\n",
    "plt.show();"
   ]
  },
  {
   "cell_type": "markdown",
   "metadata": {},
   "source": [
    "**Findings**:\n",
    "\n",
    "Films with a run time of 120-180 had the highest median ROI:\n",
    "- This run-time bin had a fairly wide spread of data indicating high-risk of flopping and high-reward of massive hits\n",
    "- These are likely blockbuster movies, due to their complex plots and (often) big budgets requiring/allowing more film time\n",
    "\n",
    "Films with a run time of 0-90 was in the second highest median ROI:\n",
    "- This is due to having the second highest median ROI\n",
    "- These are likely independent films with low budgets hence not being able to create long films\n",
    "- This bin also has a wide spread of data representing relatively high-risk and relatively high-reward\n",
    "- This can lead to films being able to make a large ROI due to the revenue heavily outperforming the small budget but these films may also not attract any mainstream attention leading to flops\n",
    "\n",
    "Films with a run time of 90-120 was in the lowest median ROI:\n",
    "- This is due to having the lowest median ROI\n",
    "- This is where most films fall **(as indicated in the histogram below)** therefore the low ROI might be due to lots of competition amongst these typical films\n",
    "- These films also had a tighter spread of data indicating a greater sense of predictablity in performance\n",
    "- Whilst this ranked last in median ROI it isn't necessarily a bad run time to aim for as industry standards has showcased this to be the norm"
   ]
  },
  {
   "cell_type": "code",
   "execution_count": 33,
   "metadata": {},
   "outputs": [
    {
     "data": {
      "image/png": "[encoded data removed]",
      "text/plain": [
       "<Figure size 720x360 with 1 Axes>"
      ]
     },
     "metadata": {
      "needs_background": "light"
     },
     "output_type": "display_data"
    }
   ],
   "source": [
    "plt.figure(figsize=(10,5))\n",
    "plt.hist(final_dataset['runtime_minutes'], bins=15)\n",
    "plt.title('Movie Runtime Distribution')\n",
    "plt.xlabel('Minutes')\n",
    "plt.ylabel('Number of Films')\n",
    "plt.show();"
   ]
  },
  {
   "cell_type": "markdown",
   "metadata": {},
   "source": [
    "Note: Most films run 90-120 minutes"
   ]
  },
  {
   "cell_type": "markdown",
   "metadata": {},
   "source": [
    "## Average Movie Popularity by Month"
   ]
  },
  {
   "cell_type": "markdown",
   "metadata": {},
   "source": [
    "Here we analyse the average popularity of movies based on the month they were released. This is a helpful, alternative way to look at movie production outside of movie type. This can help us identify when the most and least ideal times to release movies for optimal viewrship. This can support in the logistics, marketing and overall planning of the process."
   ]
  },
  {
   "cell_type": "code",
   "execution_count": 34,
   "metadata": {},
   "outputs": [
    {
     "data": {
      "text/plain": [
       "release_month_name\n",
       "January      10.460819\n",
       "February     12.545442\n",
       "March        12.532635\n",
       "April        11.662435\n",
       "May          15.533741\n",
       "June         13.845049\n",
       "July         14.559651\n",
       "August       12.450980\n",
       "September    12.076991\n",
       "October      12.951909\n",
       "November     14.935367\n",
       "December     13.921198\n",
       "Name: popularity, dtype: float64"
      ]
     },
     "execution_count": 34,
     "metadata": {},
     "output_type": "execute_result"
    }
   ],
   "source": [
    "# Calculate average popularity by month\n",
    "monthly_popularity = final_dataset.groupby(['release_month_name'])['popularity'].mean()\n",
    "\n",
    "# Reorder by month\n",
    "# Set the month order\n",
    "month_order = ['January', 'February', 'March', 'April', 'May', 'June', \n",
    "               'July', 'August', 'September', 'October', 'November', 'December']\n",
    "\n",
    "# Apply this order to the monthly popularity table\n",
    "monthly_popularity = monthly_popularity.loc[month_order]\n",
    "monthly_popularity"
   ]
  },
  {
   "cell_type": "code",
   "execution_count": 35,
   "metadata": {},
   "outputs": [
    {
     "data": {
      "image/png": "[encoded data removed]",
      "text/plain": [
       "<Figure size 864x432 with 1 Axes>"
      ]
     },
     "metadata": {
      "needs_background": "light"
     },
     "output_type": "display_data"
    }
   ],
   "source": [
    "# Plot a bar_chart\n",
    "plt.figure(figsize=(12,6))\n",
    "plt.bar(monthly_popularity.index, monthly_popularity)\n",
    "plt.title('Average Movie Popularity by Month')\n",
    "plt.xlabel('Month')\n",
    "plt.ylabel('Popularity Score')\n",
    "plt.xticks(rotation=45)\n",
    "plt.tight_layout()\n",
    "plt.show();"
   ]
  },
  {
   "cell_type": "markdown",
   "metadata": {},
   "source": [
    "**Findings**:\n",
    "\n",
    "The months of May, November and July had the highest average viewership of movies:\n",
    "- May and July are in and around the summer time where people may have more free time\n",
    "- Similarly November is in and around the christmas holidays where people may have more time to visit cinemas with their families\n",
    "\n",
    "January had the lowest popularity score at 10.4:\n",
    "- This could be due to the financial burden of the christmas period which involves travel, partying and gift giving\n",
    "- Many people are returning to work from leave and will have less leisure time as they catch up on tasks"
   ]
  },
  {
   "cell_type": "markdown",
   "metadata": {},
   "source": [
    "# Hypothesis testing"
   ]
  },
  {
   "cell_type": "code",
   "execution_count": null,
   "metadata": {},
   "outputs": [],
   "source": []
  }
 ],
 "metadata": {
  "kernelspec": {
   "display_name": "Python (learn-env)",
   "language": "python",
   "name": "learn-env"
  },
  "language_info": {
   "codemirror_mode": {
    "name": "ipython",
    "version": 3
   },
   "file_extension": ".py",
   "mimetype": "text/x-python",
   "name": "python",
   "nbconvert_exporter": "python",
   "pygments_lexer": "ipython3",
   "version": "3.8.5"
  }
 },
 "nbformat": 4,
 "nbformat_minor": 4
}
