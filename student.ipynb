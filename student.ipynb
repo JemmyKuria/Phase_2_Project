{
 "cells": [
  {
   "cell_type": "markdown",
   "metadata": {},
   "source": [
    "# PROJECT TITLE : EXPLORING BOX OFFICE TRENDS"
   ]
  },
  {
   "cell_type": "markdown",
   "metadata": {},
   "source": [
    "![Movie Update](Movie_Update.jpg)"
   ]
  },
  {
   "cell_type": "markdown",
   "metadata": {},
   "source": [
    "# PROJECT OVERVIEW\n",
    "\n",
    "#### This project is all about diving into the data to explore what makes a film successful at the box office. We'll be looking at things like genre, themes, cast, production budgets, and even audience demographics to spot trends and patterns. The goal is to uncover insights that can help shape our film development strategy. In the end, we want to give the head of our new movie studio actionable recommendations, making sure that the films we produce match what the market wants and what audiences enjoy. By doing this, we aim to make our company a strong contender in the film industry, creating content that not only engages but also makes a profit."
   ]
  },
  {
   "cell_type": "markdown",
   "metadata": {},
   "source": [
    "# OBJECTIVES\n",
    "\n",
    "#### 1. Identify the most profitable movie genres based on ROI.\n",
    "#### 2. Determine the best release months for high-performing films.\n",
    "#### 3. Analyse the impact of production budget on movie profitability.\n",
    "#### 4. Recommend strategies for maximizing ROI in future film productions.\n"
   ]
  },
  {
   "cell_type": "code",
   "execution_count": 3,
   "metadata": {},
   "outputs": [],
   "source": [
    "import pandas as pd\n",
    "import sqlite3"
   ]
  },
  {
   "cell_type": "code",
   "execution_count": 4,
   "metadata": {},
   "outputs": [
    {
     "data": {
      "text/plain": [
       "[('movie_basics',),\n",
       " ('directors',),\n",
       " ('known_for',),\n",
       " ('movie_akas',),\n",
       " ('movie_ratings',),\n",
       " ('persons',),\n",
       " ('principals',),\n",
       " ('writers',)]"
      ]
     },
     "execution_count": 4,
     "metadata": {},
     "output_type": "execute_result"
    }
   ],
   "source": [
    "# Open up a connection\n",
    "conn = sqlite3.connect(\"zippedData/im.db\")\n",
    "# Initialize a cursor\n",
    "cur = conn.cursor()\n",
    "\n",
    "cur.execute(\"\"\"SELECT name FROM sqlite_master WHERE type = 'table';\"\"\")\n",
    "# Fetch the result and store it in table_names\n",
    "table_names = cur.fetchall()\n",
    "table_names"
   ]
  },
  {
   "cell_type": "code",
   "execution_count": 5,
   "metadata": {},
   "outputs": [
    {
     "name": "stdout",
     "output_type": "stream",
     "text": [
      "\n"
     ]
    },
    {
     "data": {
      "text/html": [
       "<b>Movie basics table \n",
       "</b>"
      ],
      "text/plain": [
       "<IPython.core.display.HTML object>"
      ]
     },
     "metadata": {},
     "output_type": "display_data"
    },
    {
     "name": "stdout",
     "output_type": "stream",
     "text": [
      "    movie_id                    primary_title   original_title  start_year  \\\n",
      "0  tt0063540                        Sunghursh        Sunghursh        2013   \n",
      "1  tt0066787  One Day Before the Rainy Season  Ashad Ka Ek Din        2019   \n",
      "\n",
      "   runtime_minutes              genres  \n",
      "0            175.0  Action,Crime,Drama  \n",
      "1            114.0     Biography,Drama  \n"
     ]
    },
    {
     "data": {
      "text/html": [
       "<b>\n",
       " \n",
       " Directors table</b>"
      ],
      "text/plain": [
       "<IPython.core.display.HTML object>"
      ]
     },
     "metadata": {},
     "output_type": "display_data"
    },
    {
     "name": "stdout",
     "output_type": "stream",
     "text": [
      "    movie_id  person_id\n",
      "0  tt0285252  nm0899854\n",
      "1  tt0462036  nm1940585\n"
     ]
    },
    {
     "data": {
      "text/html": [
       "<b>\n",
       " \n",
       " Known_for table</b>"
      ],
      "text/plain": [
       "<IPython.core.display.HTML object>"
      ]
     },
     "metadata": {},
     "output_type": "display_data"
    },
    {
     "name": "stdout",
     "output_type": "stream",
     "text": [
      "   person_id   movie_id\n",
      "0  nm0061671  tt0837562\n",
      "1  nm0061671  tt2398241\n"
     ]
    },
    {
     "data": {
      "text/html": [
       "<b>\n",
       " \n",
       " Movie_akas table</b>"
      ],
      "text/plain": [
       "<IPython.core.display.HTML object>"
      ]
     },
     "metadata": {},
     "output_type": "display_data"
    },
    {
     "name": "stdout",
     "output_type": "stream",
     "text": [
      "    movie_id  ordering              title region language        types  \\\n",
      "0  tt0369610        10      Джурасик свят     BG       bg         None   \n",
      "1  tt0369610        11  Jurashikku warudo     JP     None  imdbDisplay   \n",
      "\n",
      "  attributes  is_original_title  \n",
      "0       None                0.0  \n",
      "1       None                0.0  \n"
     ]
    },
    {
     "data": {
      "text/html": [
       "<b>\n",
       " \n",
       " Movie_ratings table</b>"
      ],
      "text/plain": [
       "<IPython.core.display.HTML object>"
      ]
     },
     "metadata": {},
     "output_type": "display_data"
    },
    {
     "name": "stdout",
     "output_type": "stream",
     "text": [
      "     movie_id  averagerating  numvotes\n",
      "0  tt10356526            8.3        31\n",
      "1  tt10384606            8.9       559\n"
     ]
    },
    {
     "data": {
      "text/html": [
       "<b>\n",
       " \n",
       " Persons table</b>"
      ],
      "text/plain": [
       "<IPython.core.display.HTML object>"
      ]
     },
     "metadata": {},
     "output_type": "display_data"
    },
    {
     "name": "stdout",
     "output_type": "stream",
     "text": [
      "   person_id       primary_name  birth_year  death_year  \\\n",
      "0  nm0061671  Mary Ellen Bauder         NaN         NaN   \n",
      "1  nm0061865       Joseph Bauer         NaN         NaN   \n",
      "\n",
      "                           primary_profession  \n",
      "0   miscellaneous,production_manager,producer  \n",
      "1  composer,music_department,sound_department  \n"
     ]
    },
    {
     "data": {
      "text/html": [
       "<b>\n",
       " \n",
       " Principals table</b>"
      ],
      "text/plain": [
       "<IPython.core.display.HTML object>"
      ]
     },
     "metadata": {},
     "output_type": "display_data"
    },
    {
     "name": "stdout",
     "output_type": "stream",
     "text": [
      "    movie_id  ordering  person_id  category   job   characters\n",
      "0  tt0111414         1  nm0246005     actor  None  [\"The Man\"]\n",
      "1  tt0111414         2  nm0398271  director  None         None\n"
     ]
    },
    {
     "data": {
      "text/html": [
       "<b>\n",
       " \n",
       " Writers table</b>"
      ],
      "text/plain": [
       "<IPython.core.display.HTML object>"
      ]
     },
     "metadata": {},
     "output_type": "display_data"
    },
    {
     "name": "stdout",
     "output_type": "stream",
     "text": [
      "    movie_id  person_id\n",
      "0  tt0285252  nm0899854\n",
      "1  tt0438973  nm0175726\n"
     ]
    }
   ],
   "source": [
    "from IPython.display import display, HTML\n",
    "\n",
    "movie_basics = pd.read_sql(\"\"\"\n",
    "SELECT * FROM movie_basics\n",
    "\"\"\", conn).head(2)\n",
    "\n",
    "print()\n",
    "display(HTML(\"<b>Movie basics table \\n</b>\"))\n",
    "print(movie_basics) \n",
    "\n",
    "#Directors table\n",
    "directors = pd.read_sql(\"\"\"\n",
    "SELECT * FROM directors\n",
    "\"\"\", conn).head(2)\n",
    "display(HTML(\"<b>\\n \\n Directors table</b>\"))\n",
    "print(directors)\n",
    "\n",
    "known_for = pd.read_sql(\"\"\"\n",
    "SELECT * FROM known_for\n",
    "\"\"\", conn).head(2)\n",
    "display(HTML(\"<b>\\n \\n Known_for table</b>\"))\n",
    "\n",
    "print(known_for) \n",
    "\n",
    "movie_akas = pd.read_sql(\"\"\"\n",
    "SELECT * FROM movie_akas\n",
    "\"\"\", conn).head(2)\n",
    "display(HTML(\"<b>\\n \\n Movie_akas table</b>\"))\n",
    "print(movie_akas) \n",
    "\n",
    "movie_ratings = pd.read_sql(\"\"\"\n",
    "SELECT * FROM movie_ratings\n",
    "\"\"\", conn).head(2)\n",
    "display(HTML(\"<b>\\n \\n Movie_ratings table</b>\"))\n",
    "print(movie_ratings) \n",
    "\n",
    "persons = pd.read_sql(\"\"\"\n",
    "SELECT * FROM persons\n",
    "\"\"\", conn).head(2)\n",
    "display(HTML(\"<b>\\n \\n Persons table</b>\"))\n",
    "print(persons)\n",
    "\n",
    "principals = pd.read_sql(\"\"\"\n",
    "SELECT * FROM principals\n",
    "\"\"\", conn).head(2)\n",
    "display(HTML(\"<b>\\n \\n Principals table</b>\"))\n",
    "print(principals)\n",
    "\n",
    "writers = pd.read_sql(\"\"\"\n",
    "SELECT * FROM writers\n",
    "\"\"\", conn).head(2)\n",
    "display(HTML(\"<b>\\n \\n Writers table</b>\"))\n",
    "print(writers)"
   ]
  },
  {
   "cell_type": "code",
   "execution_count": 6,
   "metadata": {},
   "outputs": [
    {
     "name": "stdout",
     "output_type": "stream",
     "text": [
      "Movie gross info:\n",
      "<class 'pandas.core.frame.DataFrame'>\n",
      "RangeIndex: 3387 entries, 0 to 3386\n",
      "Data columns (total 5 columns):\n",
      " #   Column          Non-Null Count  Dtype  \n",
      "---  ------          --------------  -----  \n",
      " 0   title           3387 non-null   object \n",
      " 1   studio          3382 non-null   object \n",
      " 2   domestic_gross  3359 non-null   float64\n",
      " 3   foreign_gross   2037 non-null   object \n",
      " 4   year            3387 non-null   int64  \n",
      "dtypes: float64(1), int64(1), object(3)\n",
      "memory usage: 132.4+ KB\n"
     ]
    },
    {
     "data": {
      "text/html": [
       "\\ <b>Movie_gross head</b>"
      ],
      "text/plain": [
       "<IPython.core.display.HTML object>"
      ]
     },
     "metadata": {},
     "output_type": "display_data"
    },
    {
     "data": {
      "text/html": [
       "<div>\n",
       "<style scoped>\n",
       "    .dataframe tbody tr th:only-of-type {\n",
       "        vertical-align: middle;\n",
       "    }\n",
       "\n",
       "    .dataframe tbody tr th {\n",
       "        vertical-align: top;\n",
       "    }\n",
       "\n",
       "    .dataframe thead th {\n",
       "        text-align: right;\n",
       "    }\n",
       "</style>\n",
       "<table border=\"1\" class=\"dataframe\">\n",
       "  <thead>\n",
       "    <tr style=\"text-align: right;\">\n",
       "      <th></th>\n",
       "      <th>title</th>\n",
       "      <th>studio</th>\n",
       "      <th>domestic_gross</th>\n",
       "      <th>foreign_gross</th>\n",
       "      <th>year</th>\n",
       "    </tr>\n",
       "  </thead>\n",
       "  <tbody>\n",
       "    <tr>\n",
       "      <th>0</th>\n",
       "      <td>Toy Story 3</td>\n",
       "      <td>BV</td>\n",
       "      <td>415000000.0</td>\n",
       "      <td>652000000</td>\n",
       "      <td>2010</td>\n",
       "    </tr>\n",
       "    <tr>\n",
       "      <th>1</th>\n",
       "      <td>Alice in Wonderland (2010)</td>\n",
       "      <td>BV</td>\n",
       "      <td>334200000.0</td>\n",
       "      <td>691300000</td>\n",
       "      <td>2010</td>\n",
       "    </tr>\n",
       "  </tbody>\n",
       "</table>\n",
       "</div>"
      ],
      "text/plain": [
       "                        title studio  domestic_gross foreign_gross  year\n",
       "0                 Toy Story 3     BV     415000000.0     652000000  2010\n",
       "1  Alice in Wonderland (2010)     BV     334200000.0     691300000  2010"
      ]
     },
     "metadata": {},
     "output_type": "display_data"
    }
   ],
   "source": [
    "# Read all csv/tsv files and create dataframes\n",
    "movie_gross = pd.read_csv(\"zippedData/bom.movie_gross.csv.gz\")\n",
    "movie_info = pd.read_csv(\"zippedData/rt.movie_info.tsv.gz\", sep='\\t')\n",
    "reviews = pd.read_csv(\"zippedData/rt.reviews.tsv.gz\", sep='\\t', encoding='latin1')\n",
    "tmbd_movies = pd.read_csv(\"zippedData/tmdb.movies.csv.gz\")\n",
    "movie_budgets = pd.read_csv(\"zippedData/tn.movie_budgets.csv.gz\")\n",
    "\n",
    "print(\"Movie gross info:\")\n",
    "movie_gross.info()\n",
    "\n",
    "\n",
    "from IPython.display import HTML, display\n",
    "\n",
    "display(HTML(\"\\ <b>Movie_gross head</b>\"))\n",
    "display(movie_gross.head(2))"
   ]
  },
  {
   "cell_type": "code",
   "execution_count": 7,
   "metadata": {},
   "outputs": [
    {
     "name": "stdout",
     "output_type": "stream",
     "text": [
      "Movie_info info:\n",
      "<class 'pandas.core.frame.DataFrame'>\n",
      "RangeIndex: 1560 entries, 0 to 1559\n",
      "Data columns (total 12 columns):\n",
      " #   Column        Non-Null Count  Dtype \n",
      "---  ------        --------------  ----- \n",
      " 0   id            1560 non-null   int64 \n",
      " 1   synopsis      1498 non-null   object\n",
      " 2   rating        1557 non-null   object\n",
      " 3   genre         1552 non-null   object\n",
      " 4   director      1361 non-null   object\n",
      " 5   writer        1111 non-null   object\n",
      " 6   theater_date  1201 non-null   object\n",
      " 7   dvd_date      1201 non-null   object\n",
      " 8   currency      340 non-null    object\n",
      " 9   box_office    340 non-null    object\n",
      " 10  runtime       1530 non-null   object\n",
      " 11  studio        494 non-null    object\n",
      "dtypes: int64(1), object(11)\n",
      "memory usage: 146.4+ KB\n"
     ]
    },
    {
     "data": {
      "text/html": [
       "<b>Movie_info head</b>"
      ],
      "text/plain": [
       "<IPython.core.display.HTML object>"
      ]
     },
     "metadata": {},
     "output_type": "display_data"
    },
    {
     "data": {
      "text/html": [
       "<div>\n",
       "<style scoped>\n",
       "    .dataframe tbody tr th:only-of-type {\n",
       "        vertical-align: middle;\n",
       "    }\n",
       "\n",
       "    .dataframe tbody tr th {\n",
       "        vertical-align: top;\n",
       "    }\n",
       "\n",
       "    .dataframe thead th {\n",
       "        text-align: right;\n",
       "    }\n",
       "</style>\n",
       "<table border=\"1\" class=\"dataframe\">\n",
       "  <thead>\n",
       "    <tr style=\"text-align: right;\">\n",
       "      <th></th>\n",
       "      <th>id</th>\n",
       "      <th>synopsis</th>\n",
       "      <th>rating</th>\n",
       "      <th>genre</th>\n",
       "      <th>director</th>\n",
       "      <th>writer</th>\n",
       "      <th>theater_date</th>\n",
       "      <th>dvd_date</th>\n",
       "      <th>currency</th>\n",
       "      <th>box_office</th>\n",
       "      <th>runtime</th>\n",
       "      <th>studio</th>\n",
       "    </tr>\n",
       "  </thead>\n",
       "  <tbody>\n",
       "    <tr>\n",
       "      <th>0</th>\n",
       "      <td>1</td>\n",
       "      <td>This gritty, fast-paced, and innovative police...</td>\n",
       "      <td>R</td>\n",
       "      <td>Action and Adventure|Classics|Drama</td>\n",
       "      <td>William Friedkin</td>\n",
       "      <td>Ernest Tidyman</td>\n",
       "      <td>Oct 9, 1971</td>\n",
       "      <td>Sep 25, 2001</td>\n",
       "      <td>NaN</td>\n",
       "      <td>NaN</td>\n",
       "      <td>104 minutes</td>\n",
       "      <td>NaN</td>\n",
       "    </tr>\n",
       "    <tr>\n",
       "      <th>1</th>\n",
       "      <td>3</td>\n",
       "      <td>New York City, not-too-distant-future: Eric Pa...</td>\n",
       "      <td>R</td>\n",
       "      <td>Drama|Science Fiction and Fantasy</td>\n",
       "      <td>David Cronenberg</td>\n",
       "      <td>David Cronenberg|Don DeLillo</td>\n",
       "      <td>Aug 17, 2012</td>\n",
       "      <td>Jan 1, 2013</td>\n",
       "      <td>$</td>\n",
       "      <td>600,000</td>\n",
       "      <td>108 minutes</td>\n",
       "      <td>Entertainment One</td>\n",
       "    </tr>\n",
       "  </tbody>\n",
       "</table>\n",
       "</div>"
      ],
      "text/plain": [
       "   id                                           synopsis rating  \\\n",
       "0   1  This gritty, fast-paced, and innovative police...      R   \n",
       "1   3  New York City, not-too-distant-future: Eric Pa...      R   \n",
       "\n",
       "                                 genre          director  \\\n",
       "0  Action and Adventure|Classics|Drama  William Friedkin   \n",
       "1    Drama|Science Fiction and Fantasy  David Cronenberg   \n",
       "\n",
       "                         writer  theater_date      dvd_date currency  \\\n",
       "0                Ernest Tidyman   Oct 9, 1971  Sep 25, 2001      NaN   \n",
       "1  David Cronenberg|Don DeLillo  Aug 17, 2012   Jan 1, 2013        $   \n",
       "\n",
       "  box_office      runtime             studio  \n",
       "0        NaN  104 minutes                NaN  \n",
       "1    600,000  108 minutes  Entertainment One  "
      ]
     },
     "metadata": {},
     "output_type": "display_data"
    }
   ],
   "source": [
    "# 1) Print info cleanly\n",
    "print(\"Movie_info info:\")\n",
    "movie_info.info()\n",
    "\n",
    "display(HTML(\"<b>Movie_info head</b>\"))\n",
    "display(movie_info.head(2))"
   ]
  },
  {
   "cell_type": "code",
   "execution_count": 8,
   "metadata": {},
   "outputs": [
    {
     "name": "stdout",
     "output_type": "stream",
     "text": [
      "Reviews info:\n",
      "<class 'pandas.core.frame.DataFrame'>\n",
      "RangeIndex: 54432 entries, 0 to 54431\n",
      "Data columns (total 8 columns):\n",
      " #   Column      Non-Null Count  Dtype \n",
      "---  ------      --------------  ----- \n",
      " 0   id          54432 non-null  int64 \n",
      " 1   review      48869 non-null  object\n",
      " 2   rating      40915 non-null  object\n",
      " 3   fresh       54432 non-null  object\n",
      " 4   critic      51710 non-null  object\n",
      " 5   top_critic  54432 non-null  int64 \n",
      " 6   publisher   54123 non-null  object\n",
      " 7   date        54432 non-null  object\n",
      "dtypes: int64(2), object(6)\n",
      "memory usage: 3.3+ MB\n"
     ]
    },
    {
     "data": {
      "text/html": [
       "<b>reviews head</b>"
      ],
      "text/plain": [
       "<IPython.core.display.HTML object>"
      ]
     },
     "metadata": {},
     "output_type": "display_data"
    },
    {
     "data": {
      "text/html": [
       "<div>\n",
       "<style scoped>\n",
       "    .dataframe tbody tr th:only-of-type {\n",
       "        vertical-align: middle;\n",
       "    }\n",
       "\n",
       "    .dataframe tbody tr th {\n",
       "        vertical-align: top;\n",
       "    }\n",
       "\n",
       "    .dataframe thead th {\n",
       "        text-align: right;\n",
       "    }\n",
       "</style>\n",
       "<table border=\"1\" class=\"dataframe\">\n",
       "  <thead>\n",
       "    <tr style=\"text-align: right;\">\n",
       "      <th></th>\n",
       "      <th>id</th>\n",
       "      <th>review</th>\n",
       "      <th>rating</th>\n",
       "      <th>fresh</th>\n",
       "      <th>critic</th>\n",
       "      <th>top_critic</th>\n",
       "      <th>publisher</th>\n",
       "      <th>date</th>\n",
       "    </tr>\n",
       "  </thead>\n",
       "  <tbody>\n",
       "    <tr>\n",
       "      <th>0</th>\n",
       "      <td>3</td>\n",
       "      <td>A distinctly gallows take on contemporary fina...</td>\n",
       "      <td>3/5</td>\n",
       "      <td>fresh</td>\n",
       "      <td>PJ Nabarro</td>\n",
       "      <td>0</td>\n",
       "      <td>Patrick Nabarro</td>\n",
       "      <td>November 10, 2018</td>\n",
       "    </tr>\n",
       "    <tr>\n",
       "      <th>1</th>\n",
       "      <td>3</td>\n",
       "      <td>It's an allegory in search of a meaning that n...</td>\n",
       "      <td>NaN</td>\n",
       "      <td>rotten</td>\n",
       "      <td>Annalee Newitz</td>\n",
       "      <td>0</td>\n",
       "      <td>io9.com</td>\n",
       "      <td>May 23, 2018</td>\n",
       "    </tr>\n",
       "  </tbody>\n",
       "</table>\n",
       "</div>"
      ],
      "text/plain": [
       "   id                                             review rating   fresh  \\\n",
       "0   3  A distinctly gallows take on contemporary fina...    3/5   fresh   \n",
       "1   3  It's an allegory in search of a meaning that n...    NaN  rotten   \n",
       "\n",
       "           critic  top_critic        publisher               date  \n",
       "0      PJ Nabarro           0  Patrick Nabarro  November 10, 2018  \n",
       "1  Annalee Newitz           0          io9.com       May 23, 2018  "
      ]
     },
     "metadata": {},
     "output_type": "display_data"
    }
   ],
   "source": [
    "print(\"Reviews info:\")\n",
    "reviews.info()\n",
    "\n",
    "display(HTML(\"<b>reviews head</b>\"))\n",
    "display(reviews.head(2))\n"
   ]
  },
  {
   "cell_type": "code",
   "execution_count": 9,
   "metadata": {},
   "outputs": [
    {
     "data": {
      "text/html": [
       "<b>TMDB Movie info:</b>"
      ],
      "text/plain": [
       "<IPython.core.display.HTML object>"
      ]
     },
     "metadata": {},
     "output_type": "display_data"
    },
    {
     "name": "stdout",
     "output_type": "stream",
     "text": [
      "<class 'pandas.core.frame.DataFrame'>\n",
      "RangeIndex: 26517 entries, 0 to 26516\n",
      "Data columns (total 10 columns):\n",
      " #   Column             Non-Null Count  Dtype  \n",
      "---  ------             --------------  -----  \n",
      " 0   Unnamed: 0         26517 non-null  int64  \n",
      " 1   genre_ids          26517 non-null  object \n",
      " 2   id                 26517 non-null  int64  \n",
      " 3   original_language  26517 non-null  object \n",
      " 4   original_title     26517 non-null  object \n",
      " 5   popularity         26517 non-null  float64\n",
      " 6   release_date       26517 non-null  object \n",
      " 7   title              26517 non-null  object \n",
      " 8   vote_average       26517 non-null  float64\n",
      " 9   vote_count         26517 non-null  int64  \n",
      "dtypes: float64(2), int64(3), object(5)\n",
      "memory usage: 2.0+ MB\n"
     ]
    },
    {
     "data": {
      "text/html": [
       "<b>TMDB MOVIES head</b>"
      ],
      "text/plain": [
       "<IPython.core.display.HTML object>"
      ]
     },
     "metadata": {},
     "output_type": "display_data"
    },
    {
     "data": {
      "text/html": [
       "<div>\n",
       "<style scoped>\n",
       "    .dataframe tbody tr th:only-of-type {\n",
       "        vertical-align: middle;\n",
       "    }\n",
       "\n",
       "    .dataframe tbody tr th {\n",
       "        vertical-align: top;\n",
       "    }\n",
       "\n",
       "    .dataframe thead th {\n",
       "        text-align: right;\n",
       "    }\n",
       "</style>\n",
       "<table border=\"1\" class=\"dataframe\">\n",
       "  <thead>\n",
       "    <tr style=\"text-align: right;\">\n",
       "      <th></th>\n",
       "      <th>Unnamed: 0</th>\n",
       "      <th>genre_ids</th>\n",
       "      <th>id</th>\n",
       "      <th>original_language</th>\n",
       "      <th>original_title</th>\n",
       "      <th>popularity</th>\n",
       "      <th>release_date</th>\n",
       "      <th>title</th>\n",
       "      <th>vote_average</th>\n",
       "      <th>vote_count</th>\n",
       "    </tr>\n",
       "  </thead>\n",
       "  <tbody>\n",
       "    <tr>\n",
       "      <th>0</th>\n",
       "      <td>0</td>\n",
       "      <td>[12, 14, 10751]</td>\n",
       "      <td>12444</td>\n",
       "      <td>en</td>\n",
       "      <td>Harry Potter and the Deathly Hallows: Part 1</td>\n",
       "      <td>33.533</td>\n",
       "      <td>2010-11-19</td>\n",
       "      <td>Harry Potter and the Deathly Hallows: Part 1</td>\n",
       "      <td>7.7</td>\n",
       "      <td>10788</td>\n",
       "    </tr>\n",
       "    <tr>\n",
       "      <th>1</th>\n",
       "      <td>1</td>\n",
       "      <td>[14, 12, 16, 10751]</td>\n",
       "      <td>10191</td>\n",
       "      <td>en</td>\n",
       "      <td>How to Train Your Dragon</td>\n",
       "      <td>28.734</td>\n",
       "      <td>2010-03-26</td>\n",
       "      <td>How to Train Your Dragon</td>\n",
       "      <td>7.7</td>\n",
       "      <td>7610</td>\n",
       "    </tr>\n",
       "  </tbody>\n",
       "</table>\n",
       "</div>"
      ],
      "text/plain": [
       "   Unnamed: 0            genre_ids     id original_language  \\\n",
       "0           0      [12, 14, 10751]  12444                en   \n",
       "1           1  [14, 12, 16, 10751]  10191                en   \n",
       "\n",
       "                                 original_title  popularity release_date  \\\n",
       "0  Harry Potter and the Deathly Hallows: Part 1      33.533   2010-11-19   \n",
       "1                      How to Train Your Dragon      28.734   2010-03-26   \n",
       "\n",
       "                                          title  vote_average  vote_count  \n",
       "0  Harry Potter and the Deathly Hallows: Part 1           7.7       10788  \n",
       "1                      How to Train Your Dragon           7.7        7610  "
      ]
     },
     "metadata": {},
     "output_type": "display_data"
    }
   ],
   "source": [
    "display(HTML(\"<b>TMDB Movie info:</b>\"))\n",
    "\n",
    "tmbd_movies.info()\n",
    "\n",
    "display(HTML(\"<b>TMDB MOVIES head</b>\"))\n",
    "display(tmbd_movies.head(2))\n"
   ]
  },
  {
   "cell_type": "code",
   "execution_count": 10,
   "metadata": {},
   "outputs": [
    {
     "data": {
      "text/html": [
       "<b>Movie Budget info:</b>"
      ],
      "text/plain": [
       "<IPython.core.display.HTML object>"
      ]
     },
     "metadata": {},
     "output_type": "display_data"
    },
    {
     "name": "stdout",
     "output_type": "stream",
     "text": [
      "<class 'pandas.core.frame.DataFrame'>\n",
      "RangeIndex: 5782 entries, 0 to 5781\n",
      "Data columns (total 6 columns):\n",
      " #   Column             Non-Null Count  Dtype \n",
      "---  ------             --------------  ----- \n",
      " 0   id                 5782 non-null   int64 \n",
      " 1   release_date       5782 non-null   object\n",
      " 2   movie              5782 non-null   object\n",
      " 3   production_budget  5782 non-null   object\n",
      " 4   domestic_gross     5782 non-null   object\n",
      " 5   worldwide_gross    5782 non-null   object\n",
      "dtypes: int64(1), object(5)\n",
      "memory usage: 271.2+ KB\n"
     ]
    },
    {
     "data": {
      "text/html": [
       "<b>Movie Budget head</b>"
      ],
      "text/plain": [
       "<IPython.core.display.HTML object>"
      ]
     },
     "metadata": {},
     "output_type": "display_data"
    },
    {
     "data": {
      "text/html": [
       "<div>\n",
       "<style scoped>\n",
       "    .dataframe tbody tr th:only-of-type {\n",
       "        vertical-align: middle;\n",
       "    }\n",
       "\n",
       "    .dataframe tbody tr th {\n",
       "        vertical-align: top;\n",
       "    }\n",
       "\n",
       "    .dataframe thead th {\n",
       "        text-align: right;\n",
       "    }\n",
       "</style>\n",
       "<table border=\"1\" class=\"dataframe\">\n",
       "  <thead>\n",
       "    <tr style=\"text-align: right;\">\n",
       "      <th></th>\n",
       "      <th>id</th>\n",
       "      <th>release_date</th>\n",
       "      <th>movie</th>\n",
       "      <th>production_budget</th>\n",
       "      <th>domestic_gross</th>\n",
       "      <th>worldwide_gross</th>\n",
       "    </tr>\n",
       "  </thead>\n",
       "  <tbody>\n",
       "    <tr>\n",
       "      <th>0</th>\n",
       "      <td>1</td>\n",
       "      <td>Dec 18, 2009</td>\n",
       "      <td>Avatar</td>\n",
       "      <td>$425,000,000</td>\n",
       "      <td>$760,507,625</td>\n",
       "      <td>$2,776,345,279</td>\n",
       "    </tr>\n",
       "    <tr>\n",
       "      <th>1</th>\n",
       "      <td>2</td>\n",
       "      <td>May 20, 2011</td>\n",
       "      <td>Pirates of the Caribbean: On Stranger Tides</td>\n",
       "      <td>$410,600,000</td>\n",
       "      <td>$241,063,875</td>\n",
       "      <td>$1,045,663,875</td>\n",
       "    </tr>\n",
       "  </tbody>\n",
       "</table>\n",
       "</div>"
      ],
      "text/plain": [
       "   id  release_date                                        movie  \\\n",
       "0   1  Dec 18, 2009                                       Avatar   \n",
       "1   2  May 20, 2011  Pirates of the Caribbean: On Stranger Tides   \n",
       "\n",
       "  production_budget domestic_gross worldwide_gross  \n",
       "0      $425,000,000   $760,507,625  $2,776,345,279  \n",
       "1      $410,600,000   $241,063,875  $1,045,663,875  "
      ]
     },
     "metadata": {},
     "output_type": "display_data"
    }
   ],
   "source": [
    "display(HTML(\"<b>Movie Budget info:</b>\"))\n",
    "movie_budgets.info()\n",
    "\n",
    "display(HTML(\"<b>Movie Budget head</b>\"))\n",
    "display(movie_budgets.head(2))\n"
   ]
  },
  {
   "cell_type": "markdown",
   "metadata": {},
   "source": [
    "# DATA CLEANING"
   ]
  },
  {
   "cell_type": "code",
   "execution_count": 12,
   "metadata": {},
   "outputs": [
    {
     "data": {
      "text/html": [
       "<b>Movie Ratings table</b>"
      ],
      "text/plain": [
       "<IPython.core.display.HTML object>"
      ]
     },
     "metadata": {},
     "output_type": "display_data"
    },
    {
     "name": "stdout",
     "output_type": "stream",
     "text": [
      "     movie_id  averagerating  numvotes\n",
      "0  tt10356526            8.3        31\n",
      "1  tt10384606            8.9       559\n"
     ]
    },
    {
     "data": {
      "text/html": [
       "<b>Movie Basics table</b>"
      ],
      "text/plain": [
       "<IPython.core.display.HTML object>"
      ]
     },
     "metadata": {},
     "output_type": "display_data"
    },
    {
     "name": "stdout",
     "output_type": "stream",
     "text": [
      "    movie_id                    primary_title   original_title  start_year  \\\n",
      "0  tt0063540                        Sunghursh        Sunghursh        2013   \n",
      "1  tt0066787  One Day Before the Rainy Season  Ashad Ka Ek Din        2019   \n",
      "\n",
      "   runtime_minutes              genres  \n",
      "0            175.0  Action,Crime,Drama  \n",
      "1            114.0     Biography,Drama  \n"
     ]
    },
    {
     "data": {
      "text/html": [
       "<b>Joined Tables</b>"
      ],
      "text/plain": [
       "<IPython.core.display.HTML object>"
      ]
     },
     "metadata": {},
     "output_type": "display_data"
    },
    {
     "name": "stdout",
     "output_type": "stream",
     "text": [
      "    movie_id   original_title                    primary_title  \\\n",
      "0  tt0063540        Sunghursh                        Sunghursh   \n",
      "1  tt0066787  Ashad Ka Ek Din  One Day Before the Rainy Season   \n",
      "\n",
      "               genres  start_year  averagerating  numvotes  runtime_minutes  \n",
      "0  Action,Crime,Drama        2013            7.0      77.0            175.0  \n",
      "1     Biography,Drama        2019            7.2      43.0            114.0  \n"
     ]
    },
    {
     "data": {
      "text/html": [
       "<b>SQL dataset.info</b>"
      ],
      "text/plain": [
       "<IPython.core.display.HTML object>"
      ]
     },
     "metadata": {},
     "output_type": "display_data"
    },
    {
     "name": "stdout",
     "output_type": "stream",
     "text": [
      "<class 'pandas.core.frame.DataFrame'>\n",
      "RangeIndex: 146144 entries, 0 to 146143\n",
      "Data columns (total 8 columns):\n",
      " #   Column           Non-Null Count   Dtype  \n",
      "---  ------           --------------   -----  \n",
      " 0   movie_id         146144 non-null  object \n",
      " 1   original_title   146123 non-null  object \n",
      " 2   primary_title    146144 non-null  object \n",
      " 3   genres           140736 non-null  object \n",
      " 4   start_year       146144 non-null  int64  \n",
      " 5   averagerating    73856 non-null   float64\n",
      " 6   numvotes         73856 non-null   float64\n",
      " 7   runtime_minutes  114405 non-null  float64\n",
      "dtypes: float64(3), int64(1), object(4)\n",
      "memory usage: 8.9+ MB\n"
     ]
    },
    {
     "data": {
      "text/html": [
       "<b>Clean SQL dataset.info</b>"
      ],
      "text/plain": [
       "<IPython.core.display.HTML object>"
      ]
     },
     "metadata": {},
     "output_type": "display_data"
    },
    {
     "name": "stdout",
     "output_type": "stream",
     "text": [
      "<class 'pandas.core.frame.DataFrame'>\n",
      "Int64Index: 65720 entries, 0 to 146134\n",
      "Data columns (total 8 columns):\n",
      " #   Column           Non-Null Count  Dtype  \n",
      "---  ------           --------------  -----  \n",
      " 0   movie_id         65720 non-null  object \n",
      " 1   original_title   65720 non-null  object \n",
      " 2   primary_title    65720 non-null  object \n",
      " 3   genres           65720 non-null  object \n",
      " 4   start_year       65720 non-null  int64  \n",
      " 5   averagerating    65720 non-null  float64\n",
      " 6   numvotes         65720 non-null  float64\n",
      " 7   runtime_minutes  65720 non-null  float64\n",
      "dtypes: float64(3), int64(1), object(4)\n",
      "memory usage: 4.5+ MB\n"
     ]
    }
   ],
   "source": [
    "# Analyzing the tables and load data into a pandas DataFrame\n",
    "query1 = pd.read_sql_query( \"SELECT * FROM movie_ratings\", conn)\n",
    "query2 = pd.read_sql_query(\"SELECT * FROM movie_basics\" , conn)\n",
    "display(HTML(\"<b>Movie Ratings table</b>\"))\n",
    "print(query1.head(2))\n",
    "\n",
    "display(HTML(\"<b>Movie Basics table</b>\"))\n",
    "print(query2.head(2))\n",
    "\n",
    "\n",
    "\n",
    "sql_dataset = pd.read_sql_query(\n",
    "    \"\"\"\n",
    "SELECT \n",
    "    mb.movie_id,\n",
    "    mb.original_title,\n",
    "    mb.primary_title,\n",
    "    mb.genres,\n",
    "    mb.start_year,\n",
    "    mr.averagerating,\n",
    "    mr.numvotes,\n",
    "    mb.runtime_minutes\n",
    "FROM \n",
    "    movie_basics AS mb\n",
    "LEFT JOIN \n",
    "    movie_ratings AS mr\n",
    "ON \n",
    "    mb.movie_id = mr.movie_id;\n",
    "    \"\"\", conn)\n",
    "\n",
    "display(HTML(\"<b>Joined Tables</b>\"))\n",
    "print(sql_dataset.head(2))\n",
    "\n",
    "display(HTML(\"<b>SQL dataset.info</b>\"))\n",
    "sql_dataset.info()\n",
    "\n",
    "# Drop null values\n",
    "sql_dataset.dropna(inplace = True)\n",
    "display(HTML(\"<b>Clean SQL dataset.info</b>\"))\n",
    "sql_dataset.info()"
   ]
  },
  {
   "cell_type": "code",
   "execution_count": 13,
   "metadata": {},
   "outputs": [
    {
     "data": {
      "text/html": [
       "<b>Movie gross.info</b>"
      ],
      "text/plain": [
       "<IPython.core.display.HTML object>"
      ]
     },
     "metadata": {},
     "output_type": "display_data"
    },
    {
     "name": "stdout",
     "output_type": "stream",
     "text": [
      "<class 'pandas.core.frame.DataFrame'>\n",
      "RangeIndex: 3387 entries, 0 to 3386\n",
      "Data columns (total 5 columns):\n",
      " #   Column          Non-Null Count  Dtype  \n",
      "---  ------          --------------  -----  \n",
      " 0   title           3387 non-null   object \n",
      " 1   studio          3382 non-null   object \n",
      " 2   domestic_gross  3359 non-null   float64\n",
      " 3   foreign_gross   2037 non-null   object \n",
      " 4   year            3387 non-null   int64  \n",
      "dtypes: float64(1), int64(1), object(3)\n",
      "memory usage: 132.4+ KB\n"
     ]
    },
    {
     "data": {
      "text/html": [
       "<b>Merged database</b>"
      ],
      "text/plain": [
       "<IPython.core.display.HTML object>"
      ]
     },
     "metadata": {},
     "output_type": "display_data"
    },
    {
     "name": "stdout",
     "output_type": "stream",
     "text": [
      "<class 'pandas.core.frame.DataFrame'>\n",
      "Int64Index: 3152 entries, 0 to 3151\n",
      "Data columns (total 12 columns):\n",
      " #   Column           Non-Null Count  Dtype  \n",
      "---  ------           --------------  -----  \n",
      " 0   title            3152 non-null   object \n",
      " 1   studio           3149 non-null   object \n",
      " 2   domestic_gross   3129 non-null   float64\n",
      " 3   foreign_gross    1891 non-null   object \n",
      " 4   year             3152 non-null   int64  \n",
      " 5   clean_title      3152 non-null   object \n",
      " 6   primary_title    3152 non-null   object \n",
      " 7   start_year       3152 non-null   int64  \n",
      " 8   genres           3152 non-null   object \n",
      " 9   averagerating    3152 non-null   float64\n",
      " 10  numvotes         3152 non-null   float64\n",
      " 11  runtime_minutes  3152 non-null   float64\n",
      "dtypes: float64(4), int64(2), object(6)\n",
      "memory usage: 320.1+ KB\n"
     ]
    }
   ],
   "source": [
    "display(HTML(\"<b>Movie gross.info</b>\"))\n",
    "movie_gross.info()\n",
    "\n",
    "# Select specific columns from sql_dataset\n",
    "sql_subset = sql_dataset[['primary_title', 'start_year','genres', 'averagerating', 'numvotes','runtime_minutes']].copy()\n",
    "\n",
    "# Clean title columns to avoid mismatches\n",
    "sql_subset['clean_title'] = sql_subset['primary_title'].str.lower().str.replace(r'[^a-z0-9\\s]', '', regex=True).str.strip()\n",
    "movie_gross['clean_title'] = movie_gross['title'].str.lower().str.replace(r'[^a-z0-9\\s]', '', regex=True).str.strip()\n",
    "\n",
    "# Merge the datasets\n",
    "merged = pd.merge(movie_gross, sql_subset, on='clean_title', how='inner')\n",
    "display(HTML(\"<b>Merged database</b>\"))\n",
    "merged.info()\n"
   ]
  },
  {
   "cell_type": "code",
   "execution_count": 14,
   "metadata": {},
   "outputs": [
    {
     "data": {
      "text/html": [
       "<b>Movie Budget.info</b>"
      ],
      "text/plain": [
       "<IPython.core.display.HTML object>"
      ]
     },
     "metadata": {},
     "output_type": "display_data"
    },
    {
     "name": "stdout",
     "output_type": "stream",
     "text": [
      "<class 'pandas.core.frame.DataFrame'>\n",
      "RangeIndex: 5782 entries, 0 to 5781\n",
      "Data columns (total 6 columns):\n",
      " #   Column             Non-Null Count  Dtype \n",
      "---  ------             --------------  ----- \n",
      " 0   id                 5782 non-null   int64 \n",
      " 1   release_date       5782 non-null   object\n",
      " 2   movie              5782 non-null   object\n",
      " 3   production_budget  5782 non-null   object\n",
      " 4   domestic_gross     5782 non-null   object\n",
      " 5   worldwide_gross    5782 non-null   object\n",
      "dtypes: int64(1), object(5)\n",
      "memory usage: 271.2+ KB\n"
     ]
    },
    {
     "data": {
      "text/html": [
       "<b>Merged_budget.info</b>"
      ],
      "text/plain": [
       "<IPython.core.display.HTML object>"
      ]
     },
     "metadata": {},
     "output_type": "display_data"
    },
    {
     "name": "stdout",
     "output_type": "stream",
     "text": [
      "<class 'pandas.core.frame.DataFrame'>\n",
      "Int64Index: 1502 entries, 0 to 1501\n",
      "Data columns (total 13 columns):\n",
      " #   Column             Non-Null Count  Dtype  \n",
      "---  ------             --------------  -----  \n",
      " 0   title              1502 non-null   object \n",
      " 1   studio             1502 non-null   object \n",
      " 2   domestic_gross     1501 non-null   float64\n",
      " 3   foreign_gross      1288 non-null   object \n",
      " 4   year               1502 non-null   int64  \n",
      " 5   clean_title        1502 non-null   object \n",
      " 6   primary_title      1502 non-null   object \n",
      " 7   start_year         1502 non-null   int64  \n",
      " 8   genres             1502 non-null   object \n",
      " 9   averagerating      1502 non-null   float64\n",
      " 10  numvotes           1502 non-null   float64\n",
      " 11  runtime_minutes    1502 non-null   float64\n",
      " 12  production_budget  1502 non-null   object \n",
      "dtypes: float64(4), int64(2), object(7)\n",
      "memory usage: 164.3+ KB\n"
     ]
    }
   ],
   "source": [
    "display(HTML(\"<b>Movie Budget.info</b>\"))\n",
    "movie_budgets.info()\n",
    "\n",
    "# Clean title column first\n",
    "movie_budgets['clean_title'] = movie_budgets['movie'].str.lower().str.replace(r'[^a-z0-9\\s]', '', regex=True).str.strip()\n",
    "\n",
    "# Then select needed columns including clean_title\n",
    "moviebudget_subset = movie_budgets[['clean_title', 'production_budget']].copy()\n",
    "\n",
    "# Merge\n",
    "merged_budget = pd.merge(merged, moviebudget_subset, on='clean_title', how='inner')\n",
    "display(HTML(\"<b>Merged_budget.info</b>\"))\n",
    "merged_budget.info()\n"
   ]
  },
  {
   "cell_type": "code",
   "execution_count": 15,
   "metadata": {},
   "outputs": [
    {
     "data": {
      "text/html": [
       "<b>TMBD movies.info</b>"
      ],
      "text/plain": [
       "<IPython.core.display.HTML object>"
      ]
     },
     "metadata": {},
     "output_type": "display_data"
    },
    {
     "name": "stdout",
     "output_type": "stream",
     "text": [
      "<class 'pandas.core.frame.DataFrame'>\n",
      "RangeIndex: 26517 entries, 0 to 26516\n",
      "Data columns (total 10 columns):\n",
      " #   Column             Non-Null Count  Dtype  \n",
      "---  ------             --------------  -----  \n",
      " 0   Unnamed: 0         26517 non-null  int64  \n",
      " 1   genre_ids          26517 non-null  object \n",
      " 2   id                 26517 non-null  int64  \n",
      " 3   original_language  26517 non-null  object \n",
      " 4   original_title     26517 non-null  object \n",
      " 5   popularity         26517 non-null  float64\n",
      " 6   release_date       26517 non-null  object \n",
      " 7   title              26517 non-null  object \n",
      " 8   vote_average       26517 non-null  float64\n",
      " 9   vote_count         26517 non-null  int64  \n",
      "dtypes: float64(2), int64(3), object(5)\n",
      "memory usage: 2.0+ MB\n"
     ]
    },
    {
     "data": {
      "text/html": [
       "<b>merged_budget_tmdb.info</b>"
      ],
      "text/plain": [
       "<IPython.core.display.HTML object>"
      ]
     },
     "metadata": {},
     "output_type": "display_data"
    },
    {
     "name": "stdout",
     "output_type": "stream",
     "text": [
      "<class 'pandas.core.frame.DataFrame'>\n",
      "Int64Index: 1930 entries, 0 to 1929\n",
      "Data columns (total 15 columns):\n",
      " #   Column             Non-Null Count  Dtype  \n",
      "---  ------             --------------  -----  \n",
      " 0   title              1930 non-null   object \n",
      " 1   studio             1930 non-null   object \n",
      " 2   domestic_gross     1929 non-null   float64\n",
      " 3   foreign_gross      1625 non-null   object \n",
      " 4   year               1930 non-null   int64  \n",
      " 5   clean_title        1930 non-null   object \n",
      " 6   primary_title      1930 non-null   object \n",
      " 7   start_year         1930 non-null   int64  \n",
      " 8   genres             1930 non-null   object \n",
      " 9   averagerating      1930 non-null   float64\n",
      " 10  numvotes           1930 non-null   float64\n",
      " 11  runtime_minutes    1930 non-null   float64\n",
      " 12  production_budget  1930 non-null   object \n",
      " 13  popularity         1930 non-null   float64\n",
      " 14  release_date       1930 non-null   object \n",
      "dtypes: float64(5), int64(2), object(8)\n",
      "memory usage: 241.2+ KB\n"
     ]
    }
   ],
   "source": [
    "display(HTML(\"<b>TMBD movies.info</b>\"))\n",
    "tmbd_movies.info()\n",
    "# Clean title column first\n",
    "tmbd_movies['clean_title'] = tmbd_movies['title'].str.lower().str.replace(r'[^a-z0-9\\s]', '', regex=True).str.strip()\n",
    "\n",
    "# Then select needed columns including clean_title\n",
    "tmbd_movies_subset = tmbd_movies[['clean_title', 'popularity', 'release_date']].copy()\n",
    "\n",
    "# Merge\n",
    "merged_budget_tmdb = pd.merge(merged_budget, tmbd_movies_subset, on='clean_title', how='inner')\n",
    "display(HTML(\"<b>merged_budget_tmdb.info</b>\"))\n",
    "merged_budget_tmdb.info()\n"
   ]
  },
  {
   "cell_type": "code",
   "execution_count": 16,
   "metadata": {},
   "outputs": [
    {
     "data": {
      "text/html": [
       "<div>\n",
       "<style scoped>\n",
       "    .dataframe tbody tr th:only-of-type {\n",
       "        vertical-align: middle;\n",
       "    }\n",
       "\n",
       "    .dataframe tbody tr th {\n",
       "        vertical-align: top;\n",
       "    }\n",
       "\n",
       "    .dataframe thead th {\n",
       "        text-align: right;\n",
       "    }\n",
       "</style>\n",
       "<table border=\"1\" class=\"dataframe\">\n",
       "  <thead>\n",
       "    <tr style=\"text-align: right;\">\n",
       "      <th></th>\n",
       "      <th>title</th>\n",
       "      <th>studio</th>\n",
       "      <th>domestic_gross</th>\n",
       "      <th>foreign_gross</th>\n",
       "      <th>year</th>\n",
       "      <th>clean_title</th>\n",
       "      <th>primary_title</th>\n",
       "      <th>start_year</th>\n",
       "      <th>genres</th>\n",
       "      <th>averagerating</th>\n",
       "      <th>numvotes</th>\n",
       "      <th>runtime_minutes</th>\n",
       "      <th>production_budget</th>\n",
       "      <th>popularity</th>\n",
       "      <th>release_date</th>\n",
       "    </tr>\n",
       "  </thead>\n",
       "  <tbody>\n",
       "    <tr>\n",
       "      <th>0</th>\n",
       "      <td>Toy Story 3</td>\n",
       "      <td>BV</td>\n",
       "      <td>415000000.0</td>\n",
       "      <td>652000000</td>\n",
       "      <td>2010</td>\n",
       "      <td>toy story 3</td>\n",
       "      <td>Toy Story 3</td>\n",
       "      <td>2010</td>\n",
       "      <td>Adventure,Animation,Comedy</td>\n",
       "      <td>8.3</td>\n",
       "      <td>682218.0</td>\n",
       "      <td>103.0</td>\n",
       "      <td>$200,000,000</td>\n",
       "      <td>24.445</td>\n",
       "      <td>2010-06-17</td>\n",
       "    </tr>\n",
       "    <tr>\n",
       "      <th>1</th>\n",
       "      <td>Inception</td>\n",
       "      <td>WB</td>\n",
       "      <td>292600000.0</td>\n",
       "      <td>535700000</td>\n",
       "      <td>2010</td>\n",
       "      <td>inception</td>\n",
       "      <td>Inception</td>\n",
       "      <td>2010</td>\n",
       "      <td>Action,Adventure,Sci-Fi</td>\n",
       "      <td>8.8</td>\n",
       "      <td>1841066.0</td>\n",
       "      <td>148.0</td>\n",
       "      <td>$160,000,000</td>\n",
       "      <td>27.920</td>\n",
       "      <td>2010-07-16</td>\n",
       "    </tr>\n",
       "    <tr>\n",
       "      <th>2</th>\n",
       "      <td>Shrek Forever After</td>\n",
       "      <td>P/DW</td>\n",
       "      <td>238700000.0</td>\n",
       "      <td>513900000</td>\n",
       "      <td>2010</td>\n",
       "      <td>shrek forever after</td>\n",
       "      <td>Shrek Forever After</td>\n",
       "      <td>2010</td>\n",
       "      <td>Adventure,Animation,Comedy</td>\n",
       "      <td>6.3</td>\n",
       "      <td>167532.0</td>\n",
       "      <td>93.0</td>\n",
       "      <td>$165,000,000</td>\n",
       "      <td>15.041</td>\n",
       "      <td>2010-05-16</td>\n",
       "    </tr>\n",
       "    <tr>\n",
       "      <th>3</th>\n",
       "      <td>The Twilight Saga: Eclipse</td>\n",
       "      <td>Sum.</td>\n",
       "      <td>300500000.0</td>\n",
       "      <td>398000000</td>\n",
       "      <td>2010</td>\n",
       "      <td>the twilight saga eclipse</td>\n",
       "      <td>The Twilight Saga: Eclipse</td>\n",
       "      <td>2010</td>\n",
       "      <td>Adventure,Drama,Fantasy</td>\n",
       "      <td>5.0</td>\n",
       "      <td>211733.0</td>\n",
       "      <td>124.0</td>\n",
       "      <td>$68,000,000</td>\n",
       "      <td>20.340</td>\n",
       "      <td>2010-06-23</td>\n",
       "    </tr>\n",
       "    <tr>\n",
       "      <th>4</th>\n",
       "      <td>Iron Man 2</td>\n",
       "      <td>Par.</td>\n",
       "      <td>312400000.0</td>\n",
       "      <td>311500000</td>\n",
       "      <td>2010</td>\n",
       "      <td>iron man 2</td>\n",
       "      <td>Iron Man 2</td>\n",
       "      <td>2010</td>\n",
       "      <td>Action,Adventure,Sci-Fi</td>\n",
       "      <td>7.0</td>\n",
       "      <td>657690.0</td>\n",
       "      <td>124.0</td>\n",
       "      <td>$170,000,000</td>\n",
       "      <td>28.515</td>\n",
       "      <td>2010-05-07</td>\n",
       "    </tr>\n",
       "  </tbody>\n",
       "</table>\n",
       "</div>"
      ],
      "text/plain": [
       "                        title studio  domestic_gross foreign_gross  year  \\\n",
       "0                 Toy Story 3     BV     415000000.0     652000000  2010   \n",
       "1                   Inception     WB     292600000.0     535700000  2010   \n",
       "2         Shrek Forever After   P/DW     238700000.0     513900000  2010   \n",
       "3  The Twilight Saga: Eclipse   Sum.     300500000.0     398000000  2010   \n",
       "4                  Iron Man 2   Par.     312400000.0     311500000  2010   \n",
       "\n",
       "                 clean_title               primary_title  start_year  \\\n",
       "0                toy story 3                 Toy Story 3        2010   \n",
       "1                  inception                   Inception        2010   \n",
       "2        shrek forever after         Shrek Forever After        2010   \n",
       "3  the twilight saga eclipse  The Twilight Saga: Eclipse        2010   \n",
       "4                 iron man 2                  Iron Man 2        2010   \n",
       "\n",
       "                       genres  averagerating   numvotes  runtime_minutes  \\\n",
       "0  Adventure,Animation,Comedy            8.3   682218.0            103.0   \n",
       "1     Action,Adventure,Sci-Fi            8.8  1841066.0            148.0   \n",
       "2  Adventure,Animation,Comedy            6.3   167532.0             93.0   \n",
       "3     Adventure,Drama,Fantasy            5.0   211733.0            124.0   \n",
       "4     Action,Adventure,Sci-Fi            7.0   657690.0            124.0   \n",
       "\n",
       "  production_budget  popularity release_date  \n",
       "0      $200,000,000      24.445   2010-06-17  \n",
       "1      $160,000,000      27.920   2010-07-16  \n",
       "2      $165,000,000      15.041   2010-05-16  \n",
       "3       $68,000,000      20.340   2010-06-23  \n",
       "4      $170,000,000      28.515   2010-05-07  "
      ]
     },
     "execution_count": 16,
     "metadata": {},
     "output_type": "execute_result"
    }
   ],
   "source": [
    "final_dataset=merged_budget_tmdb\n",
    "final_dataset.head()"
   ]
  },
  {
   "cell_type": "code",
   "execution_count": 17,
   "metadata": {},
   "outputs": [
    {
     "data": {
      "text/html": [
       "<b>Duplicates</b>"
      ],
      "text/plain": [
       "<IPython.core.display.HTML object>"
      ]
     },
     "metadata": {},
     "output_type": "display_data"
    },
    {
     "data": {
      "text/plain": [
       "175"
      ]
     },
     "execution_count": 17,
     "metadata": {},
     "output_type": "execute_result"
    }
   ],
   "source": [
    "\n",
    "#Foreign gross column is object and it's supposed to be float\n",
    "final_dataset['foreign_gross'] = pd.to_numeric(final_dataset['foreign_gross'], errors='coerce')\n",
    "final_dataset['foreign_gross'].fillna(0, inplace=True)\n",
    "\n",
    "#Filling null values in domestic gross\n",
    "final_dataset['domestic_gross'].fillna(0, inplace=True)\n",
    "# Cleaning the production budget column.Remove dollar signs and commas, then convert to float\n",
    "final_dataset['production_budget'] = final_dataset['production_budget'].replace('[\\$,]', '', regex=True).astype(float)\n",
    "\n",
    "display(HTML(\"<b>Duplicates</b>\"))\n",
    "final_dataset.duplicated().sum()\n"
   ]
  },
  {
   "cell_type": "markdown",
   "metadata": {},
   "source": [
    "### DUPLICATES"
   ]
  },
  {
   "cell_type": "code",
   "execution_count": 19,
   "metadata": {},
   "outputs": [
    {
     "name": "stdout",
     "output_type": "stream",
     "text": [
      "Number of duplicate rows (based on 'clean_title') before dropping: 686\n",
      "\n",
      " Data info after dropping duplicates:\n",
      "<class 'pandas.core.frame.DataFrame'>\n",
      "Int64Index: 1244 entries, 0 to 1928\n",
      "Data columns (total 15 columns):\n",
      " #   Column             Non-Null Count  Dtype  \n",
      "---  ------             --------------  -----  \n",
      " 0   title              1244 non-null   object \n",
      " 1   studio             1244 non-null   object \n",
      " 2   domestic_gross     1244 non-null   float64\n",
      " 3   foreign_gross      1244 non-null   float64\n",
      " 4   year               1244 non-null   int64  \n",
      " 5   clean_title        1244 non-null   object \n",
      " 6   primary_title      1244 non-null   object \n",
      " 7   start_year         1244 non-null   int64  \n",
      " 8   genres             1244 non-null   object \n",
      " 9   averagerating      1244 non-null   float64\n",
      " 10  numvotes           1244 non-null   float64\n",
      " 11  runtime_minutes    1244 non-null   float64\n",
      " 12  production_budget  1244 non-null   float64\n",
      " 13  popularity         1244 non-null   float64\n",
      " 14  release_date       1244 non-null   object \n",
      "dtypes: float64(7), int64(2), object(6)\n",
      "memory usage: 155.5+ KB\n",
      "\n",
      "Number of duplicate rows (based on 'clean_title') after dropping: 0\n"
     ]
    }
   ],
   "source": [
    "# Check and display the number of duplicates based on 'clean_title'\n",
    "duplicate_count = final_dataset.duplicated(subset='clean_title').sum()\n",
    "print(f\"Number of duplicate rows (based on 'clean_title') before dropping: {duplicate_count}\")\n",
    "\n",
    "# Drop duplicates based on 'clean_title'\n",
    "final_dataset = merged_budget_tmdb.drop_duplicates(subset='clean_title')\n",
    "\n",
    "# Confirm removal by checking info and counting duplicates again\n",
    "print(\"\\n Data info after dropping duplicates:\")\n",
    "final_dataset.info()\n",
    "\n",
    "# Final check to ensure duplicates are removed\n",
    "final_duplicates = final_dataset.duplicated(subset='clean_title').sum()\n",
    "print(f\"\\nNumber of duplicate rows (based on 'clean_title') after dropping: {final_duplicates}\")\n"
   ]
  },
  {
   "cell_type": "code",
   "execution_count": 20,
   "metadata": {},
   "outputs": [
    {
     "name": "stdout",
     "output_type": "stream",
     "text": [
      "<class 'pandas.core.frame.DataFrame'>\n",
      "Int64Index: 1244 entries, 0 to 1928\n",
      "Data columns (total 13 columns):\n",
      " #   Column              Non-Null Count  Dtype  \n",
      "---  ------              --------------  -----  \n",
      " 0   studio              1244 non-null   object \n",
      " 1   domestic_gross      1244 non-null   float64\n",
      " 2   foreign_gross       1244 non-null   float64\n",
      " 3   year                1244 non-null   int64  \n",
      " 4   clean_title         1244 non-null   object \n",
      " 5   start_year          1244 non-null   int64  \n",
      " 6   genres              1244 non-null   object \n",
      " 7   averagerating       1244 non-null   float64\n",
      " 8   numvotes            1244 non-null   float64\n",
      " 9   runtime_minutes     1244 non-null   float64\n",
      " 10  production_budget   1244 non-null   float64\n",
      " 11  popularity          1244 non-null   float64\n",
      " 12  release_month_name  1244 non-null   object \n",
      "dtypes: float64(7), int64(2), object(4)\n",
      "memory usage: 136.1+ KB\n"
     ]
    }
   ],
   "source": [
    "\n",
    "final_dataset = final_dataset.copy()\n",
    "\n",
    "# Convert release_date to datetime and extract month name\n",
    "final_dataset['release_date'] = pd.to_datetime(\n",
    "    final_dataset['release_date'],\n",
    "    errors='coerce'  # handles invalid dates by converting to NaT\n",
    ")\n",
    "\n",
    "final_dataset['release_month_name'] = final_dataset['release_date'].dt.month_name()\n",
    "\n",
    "# Drop unnecessary columns\n",
    "final_dataset.drop(\n",
    "    columns=['primary_title', 'title', 'release_date'],\n",
    "    inplace=True,\n",
    "    errors='ignore'  # prevents error if columns don't exist\n",
    ")\n",
    "\n",
    "# Verify the changes\n",
    "final_dataset.info()"
   ]
  },
  {
   "cell_type": "markdown",
   "metadata": {},
   "source": [
    "## Feature engineering"
   ]
  },
  {
   "cell_type": "code",
   "execution_count": 22,
   "metadata": {},
   "outputs": [],
   "source": [
    "# Create an explicit copy to modify\n",
    "final_dataset = final_dataset.copy()\n",
    "\n",
    "# Now safely add new columns\n",
    "final_dataset['roi'] = (final_dataset['foreign_gross'] - final_dataset['production_budget']) / final_dataset['production_budget']\n",
    "final_dataset['profit'] = final_dataset['foreign_gross'] - final_dataset['production_budget']"
   ]
  },
  {
   "cell_type": "code",
   "execution_count": 23,
   "metadata": {},
   "outputs": [
    {
     "name": "stdout",
     "output_type": "stream",
     "text": [
      "<class 'pandas.core.frame.DataFrame'>\n",
      "Int64Index: 1244 entries, 0 to 1928\n",
      "Data columns (total 15 columns):\n",
      " #   Column              Non-Null Count  Dtype  \n",
      "---  ------              --------------  -----  \n",
      " 0   studio              1244 non-null   object \n",
      " 1   domestic_gross      1244 non-null   float64\n",
      " 2   foreign_gross       1244 non-null   float64\n",
      " 3   year                1244 non-null   int64  \n",
      " 4   clean_title         1244 non-null   object \n",
      " 5   start_year          1244 non-null   int64  \n",
      " 6   genres              1244 non-null   object \n",
      " 7   averagerating       1244 non-null   float64\n",
      " 8   numvotes            1244 non-null   float64\n",
      " 9   runtime_minutes     1244 non-null   float64\n",
      " 10  production_budget   1244 non-null   float64\n",
      " 11  popularity          1244 non-null   float64\n",
      " 12  release_month_name  1244 non-null   object \n",
      " 13  roi                 1244 non-null   float64\n",
      " 14  profit              1244 non-null   float64\n",
      "dtypes: float64(9), int64(2), object(4)\n",
      "memory usage: 155.5+ KB\n"
     ]
    }
   ],
   "source": [
    "final_dataset.info()\n"
   ]
  },
  {
   "cell_type": "markdown",
   "metadata": {},
   "source": [
    "# EXPLORATORY DATA ANALYSIS"
   ]
  },
  {
   "cell_type": "markdown",
   "metadata": {},
   "source": [
    "#### Movie Popularity by Genre"
   ]
  },
  {
   "cell_type": "code",
   "execution_count": 36,
   "metadata": {},
   "outputs": [
    {
     "data": {
      "image/png": "[encoded data removed]",
      "text/plain": [
       "<Figure size 864x432 with 1 Axes>"
      ]
     },
     "metadata": {
      "needs_background": "light"
     },
     "output_type": "display_data"
    }
   ],
   "source": [
    "import matplotlib.pyplot as plt\n",
    "import seaborn as sns\n",
    "# Create a copy of the dataset\n",
    "merged_genres = final_dataset.copy() \n",
    "\n",
    "# Drop null values\n",
    "merged_genres.dropna(subset=['genres', 'popularity']) \n",
    "\n",
    "\n",
    "merged_genres=merged_genres.assign(genre_split=merged_genres['genres'].str.split(',')).explode('genre_split')\n",
    "merged_genres['genre_split'] = merged_genres['genre_split'].str.strip()  \n",
    "# Plot a boxplot    \n",
    "plt.figure(figsize=(12, 6)) \n",
    "sns.boxplot(data=merged_genres, x='genre_split', y='popularity')\n",
    "plt.xticks(rotation=45)\n",
    "plt.title('Movie Popularity by Genre')\n",
    "plt.xlabel('Genre') \n",
    "plt.ylabel('Popularity')\n",
    "plt.tight_layout()\n",
    "plt.show()"
   ]
  },
  {
   "cell_type": "markdown",
   "metadata": {},
   "source": [
    "**Findings**\n",
    "\n",
    "Adventure, Action, and Sci-Fi emerged as the most popular genres based on:  \n",
    "- Higher median popularity scores\n",
    "- A wide spread of values, indicating a high number of popular titles\n",
    "- Presence of outliers representing blockbuster hits\n",
    "\n",
    "Other genres showed:  \n",
    "- Lower median popularity\n",
    "- Narrower popularity ranges, indicating niche appeal or limited audience reach"
   ]
  },
  {
   "cell_type": "markdown",
   "metadata": {},
   "source": [
    "#### Average Movie Popularity by Month"
   ]
  },
  {
   "cell_type": "code",
   "execution_count": 38,
   "metadata": {},
   "outputs": [
    {
     "data": {
      "image/png": "[encoded data removed]",
      "text/plain": [
       "<Figure size 720x360 with 1 Axes>"
      ]
     },
     "metadata": {
      "needs_background": "light"
     },
     "output_type": "display_data"
    }
   ],
   "source": [
    "import matplotlib.pyplot as plt\n",
    "\n",
    "# 1. Calculate average popularity by month\n",
    "monthly_popularity = final_dataset.groupby('release_month_name')['popularity'].mean()\n",
    "\n",
    "# 2. Create the plot\n",
    "plt.figure(figsize=(10,5))  # Set size\n",
    "\n",
    "# Make a bar chart\n",
    "plt.bar(['Jan','Feb','Mar','Apr','May','Jun',\n",
    "         'Jul','Aug','Sep','Oct','Nov','Dec'], \n",
    "        monthly_popularity,\n",
    "        color='skyblue')\n",
    "\n",
    "# Add titles\n",
    "plt.title('Average Movie Popularity by Month')\n",
    "plt.xlabel('Month')\n",
    "plt.ylabel('Popularity Score')\n",
    "\n",
    "# Show the plot\n",
    "plt.show()"
   ]
  },
  {
   "cell_type": "markdown",
   "metadata": {},
   "source": [
    "The month of June and October are the best months to produce a movie since it will reach a huge target of audience "
   ]
  },
  {
   "cell_type": "markdown",
   "metadata": {},
   "source": [
    "#### Average Rating by Genre"
   ]
  },
  {
   "cell_type": "code",
   "execution_count": 72,
   "metadata": {},
   "outputs": [
    {
     "data": {
      "image/png": "[encoded data removed]",
      "text/plain": [
       "<Figure size 864x432 with 1 Axes>"
      ]
     },
     "metadata": {
      "needs_background": "light"
     },
     "output_type": "display_data"
    }
   ],
   "source": [
    "# Average Rating by Genre\n",
    "genre_split = final_dataset.assign(genres=merged_budget_tmdb['genres'].str.split(',')).explode('genres')\n",
    "avg_rtg_by_genre = genre_split.groupby('genres')['averagerating'].mean()\n",
    "\n",
    "# Plot the bar chart\n",
    "plt.figure(figsize=(12, 6))\n",
    "avg_rtg_by_genre.sort_values(ascending=False).plot(\n",
    "    kind='bar',\n",
    "    color='teal'\n",
    ")\n",
    "plt.title('Average Rating by Genre', pad=15)\n",
    "plt.xlabel('Genre')\n",
    "plt.ylabel('Average Rating')\n",
    "plt.ylim(0, 10)\n",
    "plt.xticks(rotation=45, ha='right')\n",
    "plt.tight_layout()\n",
    "plt.show()"
   ]
  },
  {
   "cell_type": "markdown",
   "metadata": {},
   "source": [
    "### Findings\n",
    "\n",
    "History, Documentary, and Biography emerged as the highest-rated genres based on:  \n",
    "- Higher average audience ratings (all above 7.0)\n",
    "- A clear lead over other genres in average rating, suggesting stronger overall audience appreciation\n",
    "\n",
    "Other genres showed:  \n",
    "- Lower average ratings\n",
    "- Smaller separation between mean scores, making it harder to identify standout performers"
   ]
  },
  {
   "cell_type": "markdown",
   "metadata": {},
   "source": [
    "# HYPOTHESIS TESTING :\n",
    "#### 1. AVERAGE ROI BY GENRE\n",
    "#### 2. BUDGET VS ROI\n",
    "#### 3. MEDIAN ROI BY BUDGET GROUP"
   ]
  },
  {
   "cell_type": "markdown",
   "metadata": {},
   "source": [
    "### 1. AVERAGE ROI BY GENRE\n",
    "##### H0 (null): ROI does not differ significantly across genres\n",
    "##### H1 (alt): ROI differs significantly across genres"
   ]
  },
  {
   "cell_type": "code",
   "execution_count": null,
   "metadata": {},
   "outputs": [
    {
     "data": {
      "image/png": "[encoded data removed]",
      "text/plain": [
       "<Figure size 864x432 with 1 Axes>"
      ]
     },
     "metadata": {
      "needs_background": "light"
     },
     "output_type": "display_data"
    },
    {
     "name": "stdout",
     "output_type": "stream",
     "text": [
      "F-statistic: 5.5756\n",
      "P-value: 0.0000\n",
      "ROI differs significantly across genres.\n"
     ]
    }
   ],
   "source": [
    "import pandas as pd\n",
    "import matplotlib.pyplot as plt\n",
    "from scipy.stats import f_oneway\n",
    "\n",
    "\n",
    "# Group by genre and calculate average ROI\n",
    "avg_roi_by_genre = genre_split.groupby('genres')['roi'].mean().sort_values(ascending=False)\n",
    "\n",
    "# Plot sorted bar chart\n",
    "avg_roi_by_genre.plot(kind='bar', figsize=(12, 6), title=\"Mean ROI by Genre \")\n",
    "plt.ylabel(\"Mean ROI\")\n",
    "plt.xlabel(\"Genre\")\n",
    "plt.xticks(rotation=45)\n",
    "plt.tight_layout()\n",
    "plt.show()\n",
    "\n",
    "\n",
    "# Prepare ROI data grouped by genre for ANOVA\n",
    "roi_groups = [group['roi'].values for name, group in genre_split.groupby('genres') if len(group) > 1]\n",
    "\n",
    "# Run one-way ANOVA test\n",
    "f_stat, p_val = f_oneway(*roi_groups)\n",
    "\n",
    "# Print results\n",
    "print(f\"F-statistic: {f_stat:.4f}\")\n",
    "print(f\"P-value: {p_val:.4f}\")\n",
    "if p_val < 0.05:\n",
    "    print(\"ROI differs significantly across genres.\")\n",
    "else:\n",
    "    print(\"ROI does not differ significantly across genres.\")\n"
   ]
  },
  {
   "cell_type": "markdown",
   "metadata": {},
   "source": [
    "\n",
    "Horror, Mystery, and Thriller are the most profitable genres, each with an average ROI above 9.0.\n",
    "\n",
    "These genres likely do well because they have lower production costs and strong, loyal audiences.\n",
    "\n",
    "Other genres have lower average ROI, which may mean higher costs or less audience interest.\n",
    "\n",
    "A statistical test (ANOVA) showed a clear difference in ROI across genres (F = 7.7060, p = 0.0000).\n",
    "\n",
    "This means that genre has a real effect on how profitable a movie can be."
   ]
  },
  {
   "cell_type": "markdown",
   "metadata": {},
   "source": [
    "## 2.  Budget VS ROI\n",
    "#### Null Hypothesis (H₀): Higher budget films (>$50M) and lower budget films (≤$50M) have the same chance of being profitable (ROI > 1).\n",
    "#### Alternative Hypothesis (H₁): Higher budget films are more likely to be profitable."
   ]
  },
  {
   "cell_type": "code",
   "execution_count": null,
   "metadata": {},
   "outputs": [
    {
     "data": {
      "image/png": "[encoded data removed]",
      "text/plain": [
       "<Figure size 720x432 with 1 Axes>"
      ]
     },
     "metadata": {
      "needs_background": "light"
     },
     "output_type": "display_data"
    },
    {
     "name": "stdout",
     "output_type": "stream",
     "text": [
      "Low-budget success rate: 25.3%\n",
      "Medium_budget success rate: 29.9%\n",
      "High-budget success rate: 28.5%\n",
      "\n",
      "Statistical Conclusion: FAIL TO REJECT the null hypothesis (p ≥ 0.05)\n",
      "Higher budget films (>$50M) and lower budget films (≤$50M) have the same chance of being profitable (ROI > 1)\n"
     ]
    }
   ],
   "source": [
    "# Budget vs. ROI\n",
    "import seaborn as sns\n",
    "plt.figure(figsize=(10,6))\n",
    "sns.scatterplot(\n",
    "    x='production_budget', \n",
    "    y='roi', \n",
    "    data=final_dataset[final_dataset['production_budget'] <= 200e6],  # Filter outliers\n",
    "    alpha=0.7\n",
    ")\n",
    "plt.axhline(y=1, color='red', linestyle='--', label='100% ROI')\n",
    "plt.title(\"Budget vs. ROI \")\n",
    "plt.xlabel(\"Production Budget ($)\")\n",
    "plt.ylabel(\"ROI\")\n",
    "plt.legend(bbox_to_anchor=(1.05, 1))\n",
    "plt.show()\n",
    "from statsmodels.stats.proportion import proportions_ztest\n",
    "\n",
    "\n",
    "\n",
    "# Creating budget groups\n",
    "low_budget = final_dataset[final_dataset['production_budget'] <= 50e6]\n",
    "medium_budget = final_dataset[(final_dataset['production_budget'] > 50e6) & (final_dataset['production_budget'] <= 100e6)]\n",
    "high_budget = final_dataset[(final_dataset['production_budget'] > 10e6) & (final_dataset['production_budget'] <= 200e6)]\n",
    "\n",
    "# Count profitable films\n",
    "profitable_low = (low_budget['roi'] > 1).sum()\n",
    "profitable_medium = (medium_budget['roi'] > 1).sum()\n",
    "profitable_high = (high_budget['roi'] > 1).sum()\n",
    "\n",
    "# Run z-test\n",
    "zstat, pval = proportions_ztest(\n",
    "    [profitable_high, profitable_low],\n",
    "    [len(high_budget), len(low_budget)],\n",
    "    alternative='larger'\n",
    ")\n",
    "\n",
    "# Output\n",
    "print(f\"Low-budget success rate: {profitable_low/len(low_budget):.1%}\")\n",
    "print(f\"Medium_budget success rate: {profitable_medium/len(medium_budget):.1%}\")\n",
    "print(f\"High-budget success rate: {profitable_high/len(high_budget):.1%}\")\n",
    "print(f\"\\nStatistical Conclusion: {'REJECT the null hypothesis (p < 0.05)' if pval < 0.05 else 'FAIL TO REJECT the null hypothesis (p ≥ 0.05)'}\")\n",
    "print(\"Higher budget films (>$50M) and lower budget films (≤$50M) have the same chance of being profitable (ROI > 1)\")"
   ]
  },
  {
   "cell_type": "markdown",
   "metadata": {},
   "source": [
    "There's no statistically significant difference in profitability between budget "
   ]
  },
  {
   "cell_type": "code",
   "execution_count": null,
   "metadata": {},
   "outputs": [
    {
     "data": {
      "image/png": "[encoded data removed]",
      "text/plain": [
       "<Figure size 720x360 with 1 Axes>"
      ]
     },
     "metadata": {
      "needs_background": "light"
     },
     "output_type": "display_data"
    }
   ],
   "source": [
    "import numpy as np\n",
    "import pandas as pd\n",
    "import seaborn as sns\n",
    "import matplotlib.pyplot as plt\n",
    "\n",
    "# Creating runtime bins\n",
    "final_dataset = final_dataset.copy()\n",
    "final_dataset['runtime_bin'] = pd.cut(\n",
    "    final_dataset['runtime_minutes'],\n",
    "    bins=[0, 90, 120, 180, np.inf],\n",
    "    labels=['<90', '90-120', '120-180', '180+'])\n",
    "\n",
    "# Drop NaNs just in case\n",
    "filtered_data = final_dataset.dropna(subset=['runtime_bin', 'roi'])\n",
    "\n",
    "# Plot\n",
    "plt.figure(figsize=(10, 5))\n",
    "sns.boxplot(\n",
    "    x='runtime_bin',\n",
    "    y='roi',\n",
    "    data=filtered_data,\n",
    "    palette='Blues'\n",
    ")\n",
    "plt.title('ROI Distribution by Runtime')\n",
    "plt.xlabel('Runtime (minutes)')\n",
    "plt.ylabel('ROI')\n",
    "plt.axhline(0, color='black', linestyle='--')\n",
    "plt.show()\n"
   ]
  },
  {
   "cell_type": "code",
   "execution_count": 48,
   "metadata": {},
   "outputs": [
    {
     "data": {
      "image/png": "[encoded data removed]",
      "text/plain": [
       "<Figure size 720x360 with 1 Axes>"
      ]
     },
     "metadata": {
      "needs_background": "light"
     },
     "output_type": "display_data"
    }
   ],
   "source": [
    "plt.figure(figsize=(10,5))\n",
    "plt.hist(final_dataset['runtime_minutes'], bins=15, color='#17becf')\n",
    "plt.title('Typical Movie Runtimes')\n",
    "plt.xlabel('Minutes')\n",
    "plt.ylabel('Number of Films')\n",
    "plt.show()"
   ]
  },
  {
   "cell_type": "markdown",
   "metadata": {},
   "source": [
    "Findings: Most films run 90-120 minutes."
   ]
  },
  {
   "cell_type": "markdown",
   "metadata": {},
   "source": [
    "### 3. MEDIAN ROI BY BUDGET GROUP\n",
    "#### Null Hypothesis: All budget groups have the same median ROI\n",
    "#### Alternative Hypothesis: At least one group differs"
   ]
  },
  {
   "cell_type": "code",
   "execution_count": null,
   "metadata": {},
   "outputs": [
    {
     "data": {
      "image/png": "[encoded data removed]",
      "text/plain": [
       "<Figure size 576x288 with 1 Axes>"
      ]
     },
     "metadata": {
      "needs_background": "light"
     },
     "output_type": "display_data"
    },
    {
     "name": "stdout",
     "output_type": "stream",
     "text": [
      "Null Hypothesis: All budget groups have the same median ROI\n",
      "Alternative Hypothesis: At least one group differs\n",
      "\n",
      "ANOVA Results: F = 2.1, p = 0.084\n",
      "No significant differences between groups\n"
     ]
    }
   ],
   "source": [
    "# Your original visualization code \n",
    "import matplotlib.pyplot as plt\n",
    "import seaborn as sns\n",
    "\n",
    "# Create budget groups\n",
    "bins = [0, 20, 50, 100, 200, 500]\n",
    "final_dataset['budget_group'] = pd.cut(final_dataset['production_budget']/1e6, \n",
    "                                    bins=bins, \n",
    "                                    labels=['<20M', '20-50M', '50-100M', '100-200M', '200M+'])\n",
    "\n",
    "# Plot median ROI per budget group\n",
    "plt.figure(figsize=(8,4))\n",
    "final_dataset.groupby('budget_group')['roi'].median().plot(kind='bar', color=\"blue\")\n",
    "plt.title('Median ROI by Budget Group')\n",
    "plt.xlabel('Production Budget ($M)')\n",
    "plt.ylabel('ROI (%)')\n",
    "plt.axhline(y=0, color='grey', linestyle='--')\n",
    "plt.show()\n",
    "\n",
    "from scipy.stats import f_oneway\n",
    "\n",
    "# State our hypothesis\n",
    "print(\"Null Hypothesis: All budget groups have the same median ROI\")\n",
    "print(\"Alternative Hypothesis: At least one group differs\\n\")\n",
    "\n",
    "# Prepare the data\n",
    "group_data = []\n",
    "for group in ['<20M', '20-50M', '50-100M', '100-200M', '200M+']:\n",
    "    if group in final_dataset['budget_group'].unique():\n",
    "        group_data.append(final_dataset[final_dataset['budget_group'] == group]['roi'])\n",
    "\n",
    "# Run the test (ANOVA)\n",
    "if len(group_data) >= 2:  # Need at least 2 groups to compare\n",
    "    f_stat, p_value = f_oneway(*group_data)\n",
    "    print(f\"ANOVA Results: F = {f_stat:.1f}, p = {p_value:.3f}\")\n",
    "    \n",
    "    # Interpret\n",
    "    if p_value < 0.05:\n",
    "        best_group = final_dataset.groupby('budget_group')['roi'].median().idxmax()\n",
    "        print(f\"Significant difference found! Best group: {best_group}\")\n",
    "    else:\n",
    "        print(\"No significant differences between groups\")\n",
    "else:\n",
    "    print(\"Not enough groups to compare\")"
   ]
  },
  {
   "cell_type": "code",
   "execution_count": 52,
   "metadata": {},
   "outputs": [
    {
     "data": {
      "image/png": "[encoded data removed]",
      "text/plain": [
       "<Figure size 576x288 with 1 Axes>"
      ]
     },
     "metadata": {
      "needs_background": "light"
     },
     "output_type": "display_data"
    }
   ],
   "source": [
    "# Calculate % of profitable films by budget group\n",
    "success_rate = final_dataset.groupby('budget_group')['roi'].apply(lambda x: (x > 0).mean() * 100)\n",
    "\n",
    "plt.figure(figsize=(8,4))\n",
    "success_rate.plot(\n",
    "    kind='line', \n",
    "    marker='o',\n",
    "    color='#673AB7',\n",
    "    markersize=8\n",
    ")\n",
    "plt.title('Budget vs. Probability of Profit')\n",
    "plt.xlabel('Production Budget ($M)')\n",
    "plt.ylabel('% Profitable Films')\n",
    "plt.ylim(0, 100)\n",
    "plt.grid(True)\n",
    "plt.show()"
   ]
  },
  {
   "cell_type": "markdown",
   "metadata": {},
   "source": [
    "# CONCLUSIONS\n",
    "\n",
    "#### Horror, Sport, Thriller, and Mystery movies had the highest ROI, showing they are more likely to make profits even with lower budgets. \n",
    "#### Adventure, Action, and Sci-Fi were the most popular genres but not the most profitable. Movies released in June and October performed better than others. \n",
    "#### Budgets between $100M–$200M were common among high-performing films, but high budget didn’t always guarantee high returns.\n"
   ]
  },
  {
   "cell_type": "markdown",
   "metadata": {},
   "source": [
    "# RECOMMENDATIONS\n",
    "#### A high budget results to a high probability of getting a high return of investment.\n",
    "#### For a high ROI movies should be released at September, October or June. This might be caused by many factors eg popularity.\n",
    "#### Prioritize Films in the $100-200M Budget Range.\n",
    "\n",
    "#### POPULARITY: Adventure, Action, and Sci-Fi.\n",
    "#### BEST TIME OF RELEASE: ,September, June and October.\n",
    "#### BUDGET: 100-200M.\n",
    "#### HIGH ROI: Horror, Sport, Thriller, Mystery.\n",
    "\n"
   ]
  }
 ],
 "metadata": {
  "kernelspec": {
   "display_name": "Python [conda env:anaconda3new-learn-env]",
   "language": "python",
   "name": "conda-env-anaconda3new-learn-env-py"
  },
  "language_info": {
   "codemirror_mode": {
    "name": "ipython",
    "version": 3
   },
   "file_extension": ".py",
   "mimetype": "text/x-python",
   "name": "python",
   "nbconvert_exporter": "python",
   "pygments_lexer": "ipython3",
   "version": "3.8.5"
  }
 },
 "nbformat": 4,
 "nbformat_minor": 4
}
